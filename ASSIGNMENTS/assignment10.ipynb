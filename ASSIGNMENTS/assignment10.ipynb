{
 "cells": [
  {
   "cell_type": "markdown",
   "id": "1e18d428",
   "metadata": {},
   "source": [
    "#### Q1. ROC & AUC Curve...What is their relationship?\n",
    "\n",
    "#### Q2. Perform smote on titanic data as well as check if there is an imbalance in the data.\n",
    "\n",
    "#### Q3. Doclassification problem on the titanic dataset.\n",
    "\n",
    "#### Q4. (Ass) Write an example of when high precision might be preferable to high recall.and where high recall might be preferable to high precision.\n",
    "\n",
    "#### Q5. Accuracy vs F1-Score.\n",
    "\n",
    "#### Q6. Do an accuracy classification report for titanic dataset.\n",
    "\n",
    "#### Q7. Titanic dataset group work\n",
    "\n",
    "\n",
    "#### Q8. tree-based bs gradient-boosting algorithms.\n",
    "\n",
    "#### Q9. How do you perform label encoding?\n",
    "\n",
    "#### Q10. What is a root node?\n",
    "\n",
    "#### Q11. What is hyperparameter maximization?\n",
    "\n",
    "#### Q12. Hyperparameter tuning vs decison-tree pruning?\n",
    "\n",
    "#### Q13. What is decision-tree pruning?\n",
    "\n",
    "#### Q14. What is max-depth?\n",
    "\n",
    "#### Q15. What is tree-depth?\n",
    "\n",
    "#### Q16. What is mean sample split?\n",
    "\n",
    "#### Q17. List comprehension and how to do it?\n",
    "\n",
    "#### Q18. Use tennis data to KNN model.\n",
    "\n",
    "#### Q19.How do you fit a KNN  model and compare it to a decision tree?\n",
    "\n",
    "#### Q20. What is the curse of dimensionality?\n",
    "\n",
    "#### Q21. Loss function in regression.\n",
    "\n",
    "#### Q22. Underfitting vs overfitting?\n",
    "\n",
    "#### Q23. k-means in clustering?\n",
    "\n",
    "#### Q24. \n",
    "\n"
   ]
  }
 ],
 "metadata": {
  "language_info": {
   "name": "python"
  }
 },
 "nbformat": 4,
 "nbformat_minor": 5
}
