{
 "cells": [
  {
   "cell_type": "code",
   "execution_count": null,
   "metadata": {
    "vscode": {
     "languageId": "plaintext"
    }
   },
   "outputs": [],
   "source": [
    "# Week three assignment\n",
    "\n",
    "Understand the difference between loading (json) and reading (CSV ) \n",
    "\n",
    "The difference between writing (CSV) and dumping (json)\n",
    "\n",
    "Article: Write on hypothesis testing, why we use it, and when we use it"
   ]
  },
  {
   "cell_type": "markdown",
   "metadata": {},
   "source": [
    "## Q1.Understand the difference between loading (json) and reading (CSV ) .\n",
    "\n",
    "The main difference between loading a JSON file and reading a CSV file comes down to how the data is structured and how it's handled in programming.\n",
    "\n",
    "1. Loading JSON:\n",
    "Structure: JSON (JavaScript Object Notation) is a flexible, hierarchical data format that can represent complex data structures like objects, arrays, nested data, etc.\n",
    "\n",
    "Data Organization: It stores data in key-value pairs (like dictionaries in Python).\n",
    "\n",
    "Loading Process: In programming, when you load a JSON file, you're converting the JSON data (typically in text format) into a usable data structure in your code (such as a dictionary in Python).\n",
    " \n",
    "The json.load() method loads the content of a JSON file into a Python dictionary or list, depending on the JSON structure.\n",
    "\n",
    "2. Reading CSV:\n",
    "Structure: CSV (Comma-Separated Values) is a tabular, plain-text format used to store data in a table with rows and columns. Each row represents a record, and each column represents a field in that record.\n",
    "\n",
    "Data Organization: CSV files have no nested or complex structure; they are flat, with each value separated by commas (or other delimiters like tabs or semicolons).\n",
    "\n",
    "Reading Process: When you read a CSV file, you're parsing it line-by-line, typically converting it into a table-like structure such as a list of lists or a DataFrame (in the case of libraries like pandas).\n",
    "\n",
    "The csv.reader() method reads the file and splits each line into a list of values, where each value corresponds to a cell in the table.\n",
    "\n",
    "### Key Differences:\n",
    "1. Format:\n",
    "JSON can handle complex, nested data, while CSV is typically flat and table-like.\n",
    "2. Data Representation:\n",
    "JSON represents data as objects and arrays (or dictionaries and lists), whereas CSV represents data as rows and columns.\n",
    "3. Use Case:\n",
    "JSON is often used when you need to represent complex relationships and data structures (e.g., APIs, configuration files).\n",
    "CSV is used for storing and sharing data in a tabular format, especially for simple datasets (e.g., spreadsheets, database exports).\n"
   ]
  },
  {
   "cell_type": "markdown",
   "metadata": {},
   "source": [
    "\n",
    "## Q2. The difference between writing (CSV) and dumping (json)\n",
    "\n",
    "1. Writing CSV:\n",
    "Process: When you write to a CSV file, you're saving tabular data, typically in rows and columns. The data is usually flat, and each row corresponds to a record with a set of fields.\n",
    "Method: Writing a CSV involves transforming data (like a list of lists or rows) into a string format where each row is separated by a newline, and each value in a row is separated by a delimiter (usually a comma).\n",
    "\n",
    "The csv.writer() method is used to write rows of data to a CSV file. The writerows() function writes multiple rows at once.\n",
    "\n",
    "2. Dumping JSON:\n",
    "Process: When you dump data to a JSON file, you're saving data in a structured format (key-value pairs, objects, or arrays). JSON can handle nested, hierarchical data structures, which means you can store more complex data than with CSV.\n",
    "Method: Dumping JSON typically involves converting a Python object (such as a dictionary or list) into a JSON-formatted string and then writing that string to a file. The process preserves the structure of the data.\n",
    "\n",
    "The json.dump() method is used to convert the Python object (data) into a JSON-formatted string and write it to the file. The indent=4 argument makes the output human-readable by adding indentation.\n",
    "\n",
    "## Key Differences:\n",
    "Data Format:\n",
    "\n",
    "CSV Writing involves creating a flat, table-like structure where each row corresponds to a record and columns represent fields. There are no complex or nested relationships in the data.\n",
    "JSON Dumping preserves the hierarchical structure of data, meaning nested objects, arrays, and complex data types can be represented directly.\n",
    "Data Structure:\n",
    "\n",
    "Writing CSV typically deals with lists of lists (or rows of data).\n",
    "Dumping JSON involves working with more flexible Python objects like dictionaries, lists, and potentially nested structures (such as dictionaries within lists).\n",
    "Complexity:\n",
    "\n",
    "CSV is straightforward and typically used for simple, flat data storage (e.g., spreadsheets).\n",
    "JSON is more flexible and used for complex, hierarchical data storage, often in configurations, APIs, or data exchange between applications.\n"
   ]
  },
  {
   "cell_type": "markdown",
   "metadata": {},
   "source": [
    "## Q3. Article: Write on hypothesis testing, why we use it, and when we use it. \n",
    "\n",
    "\n",
    "[Hypothesis testing article](https://medium.com/@murungiclaud/hypothesis-testing-101-a-beginners-guide-to-making-data-driven-decisions-519f0254fd07)\n",
    "\n"
   ]
  }
 ],
 "metadata": {
  "language_info": {
   "name": "python"
  }
 },
 "nbformat": 4,
 "nbformat_minor": 2
}
