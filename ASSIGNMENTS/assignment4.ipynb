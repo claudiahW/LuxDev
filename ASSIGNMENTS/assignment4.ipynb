{
 "cells": [
  {
   "cell_type": "markdown",
   "id": "619810d3",
   "metadata": {},
   "source": [
    "done on dbeaver "
   ]
  }
 ],
 "metadata": {
  "language_info": {
   "name": "python"
  }
 },
 "nbformat": 4,
 "nbformat_minor": 5
}
