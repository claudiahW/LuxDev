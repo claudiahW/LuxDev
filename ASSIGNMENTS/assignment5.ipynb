{
 "cells": [
  {
   "cell_type": "markdown",
   "id": "2620871b",
   "metadata": {},
   "source": [
    "#### Q1. Define Null Hypothesis, Acceptance criteria and Rejection criteria.\n",
    "\n",
    "The null hypothesis is a statement that there is no effect, no difference, or no relationship between variables. It serves as the default or starting assumption in statistical testing.\n",
    "\n",
    "Acceptance criteria refer to the conditions under which we fail to reject the null hypothesis. This means the observed data is consistent with the null hypothesis within an acceptable level of error.\n",
    "\n",
    "Typically, if the p-value > α (significance level), we accept or \"fail to reject\" the null hypothesis.\n",
    "\n",
    "Common significance levels: α = 0.05, 0.01, 0.10.\n",
    "\n",
    "Rejection criteria are the conditions under which we reject the null hypothesis in favor of the alternative hypothesis (H₁). This implies the data provides enough evidence that the null hypothesis is unlikely to be true.\n",
    "\n",
    "Typically, if the p-value ≤ α, we reject the null hypothesis.\n",
    "\n",
    "Alternatively, in a z-test or t-test, if the test statistic falls into the critical region (beyond critical value), we reject H₀.\n",
    "\n",
    "#### Q2. How do you set up a null hypothesis?\n",
    "\n",
    "\n",
    "1. Identify the Research Question or Objective\n",
    "Start by determining what you're trying to investigate. This could involve comparing groups, testing an effect, or measuring a relationship.\n",
    "\n",
    "2. Define the Population Parameters\n",
    "Identify what parameters (mean, proportion, variance, etc.) you're testing—usually using symbols like:\n",
    "\n",
    "μ (population mean)\n",
    "\n",
    "p (population proportion)\n",
    "\n",
    "σ² (population variance)\n",
    "\n",
    "3. State the Null Hypothesis (H₀)\n",
    "Formulate a statement that assumes no effect, no difference, or status quo. It always includes an equality sign ( = , ≥ , or ≤).\n",
    "\n",
    "4. Formulate the Alternative Hypothesis (H₁ or Ha)\n",
    "This is what you're trying to provide evidence for—typically the opposite of H₀.\n",
    "\n",
    "\n",
    "#### Q3. What is the difference between r-squared and adjusted r-squared?\n",
    "\n"
   ]
  }
 ],
 "metadata": {
  "language_info": {
   "name": "python"
  }
 },
 "nbformat": 4,
 "nbformat_minor": 5
}
