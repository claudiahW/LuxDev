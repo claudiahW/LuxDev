{
 "cells": [
  {
   "cell_type": "markdown",
   "id": "95dace65",
   "metadata": {},
   "source": [
    "#### Q1. Differentiate between RMSE, MAPE and MSLE.\n",
    "\n",
    "#### Q2. Differentiate between MAE and MAPE, where wen and why we apply both?\n",
    "\n",
    "#### Q3. \n",
    "\n"
   ]
  }
 ],
 "metadata": {
  "language_info": {
   "name": "python"
  }
 },
 "nbformat": 4,
 "nbformat_minor": 5
}
