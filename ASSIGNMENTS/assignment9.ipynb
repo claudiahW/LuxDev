{
 "cells": [
  {
   "cell_type": "markdown",
   "id": "959e05cf",
   "metadata": {},
   "source": [
    "#### Q1. Read about shifting and scaling in linear transformations.\n",
    "\n",
    "#### Q2.What is SVM and what is its importance in ML?\n",
    "\n",
    "#### Q3. Do titanic dataset.\n",
    "\n",
    "#### Q4. Linear Regression vs Logistic Regression.\n",
    "\n",
    "#### Q5. Do labs for linear-to-logistic regression.\n",
    "\n",
    "#### Q6. Why do we drop the first column after dumyfying?\n",
    "\n",
    "\n",
    "\n"
   ]
  }
 ],
 "metadata": {
  "language_info": {
   "name": "python"
  }
 },
 "nbformat": 4,
 "nbformat_minor": 5
}
