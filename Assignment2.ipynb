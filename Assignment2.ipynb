{
 "cells": [
  {
   "cell_type": "markdown",
   "metadata": {},
   "source": [
    "## WEEK 2 ASSIGNMENT\n",
    "\n",
    "\n",
    "Learn about magic commands and what they are used  for  \n",
    "\n",
    "Difference between a bar chart, count plot and histogram\n",
    "\n",
    "\n",
    "Do a blog on data protection, privacy and ethics\n",
    "\n",
    "\n",
    "Do all the visualisation we learnt in plotly\n",
    "\n",
    "\n",
    "Learn the different customisation for each visualization\n",
    "\n",
    "\n",
    "Get the absolute deviation mean using a for loop  and a function\n",
    "\n",
    "\n",
    "When writing a report do we always start from the smallest or the largest percent\n",
    "Find different percentiles of (my_list) without using libraries"
   ]
  },
  {
   "cell_type": "markdown",
   "metadata": {},
   "source": [
    "**Question 1.**\n",
    "\n",
    "# Learn about magic commands and what they are used  for .\n",
    "\n",
    " Magic commands are an enhancement of the interactive IPython kernel (used by Jupyter) and make performing common tasks easier than using Python code alone.\n",
    "\n",
    " Magic commands are easily identified because they all start with the % character. Line magics start with a single % and apply to the code on the rest of the line. Cell magics start with %% and apply to the rest of the code in a cell.\n",
    "\n",
    " Some common uses of magic commands are\n",
    "\n",
    " - test the speed of your code.\n",
    " - display the memory usage of your code.\n",
    " - Help with autocomplete.\n",
    " - Write a code to a file.\n",
    " - Reload code from a file.\n",
    "\n",
    "\n"
   ]
  }
 ],
 "metadata": {
  "language_info": {
   "name": "python"
  }
 },
 "nbformat": 4,
 "nbformat_minor": 2
}
