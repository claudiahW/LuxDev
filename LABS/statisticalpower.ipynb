{
 "cells": [
  {
   "cell_type": "markdown",
   "id": "def0c3ba",
   "metadata": {},
   "source": [
    "The following four factors have an intimate relationship:\n",
    "\n",
    "Sample size\n",
    "Effect size\n",
    "Significance level = \n",
    "α\n",
    " = P(Type I error) = probability of finding an effect that is not there\n",
    "Power = 1 - \n",
    "β\n",
    " = 1 - P(Type II error) = probability of finding an effect that is there\n",
    "where \n",
    "β\n",
    " is the probability of a Type II error, i.e. the probability of failing to reject a false null hypothesis\n",
    "Given any three of these, we can easily determine the fourth.\n",
    "\n",
    "To start, let's import the necessary libraries required for this simulation:"
   ]
  },
  {
   "cell_type": "code",
   "execution_count": 2,
   "id": "4da5143b",
   "metadata": {},
   "outputs": [],
   "source": [
    "# load necessary imports and libraries \n",
    "\n",
    "import numpy as np, pandas as pd, scipy.stats as stats, matplotlib.pyplot as plt, seaborn as sns, math, random, time, datetime, os, sys\n",
    "\n",
    "sns.set_style('darkgrid')"
   ]
  },
  {
   "cell_type": "code",
   "execution_count": null,
   "id": "ae57eeb4",
   "metadata": {},
   "outputs": [],
   "source": [
    "# Number of patients in each group \n",
    "sample_size = 12 # 24 total, split evenly \n",
    "\n",
    "# control group\n",
    "control_mean = 0 # no effect given \n",
    "control_std_dev = 0.21 # given standard deviation\n",
    "\n",
    "# experimental group \n",
    "experimental_mean = 0.17 # expected effect size ( mean change in liver fat)\n",
    "experimental_std_dev = 0.21 # same standard deviation as control group\n",
    "\n",
    "# set the number of simulations \n",
    "n_sim = 1000 # you can increase to 10000 for higher accuracy "
   ]
  },
  {
   "cell_type": "code",
   "execution_count": null,
   "id": "a54a4e40",
   "metadata": {},
   "outputs": [],
   "source": []
  }
 ],
 "metadata": {
  "kernelspec": {
   "display_name": "base",
   "language": "python",
   "name": "python3"
  },
  "language_info": {
   "codemirror_mode": {
    "name": "ipython",
    "version": 3
   },
   "file_extension": ".py",
   "mimetype": "text/x-python",
   "name": "python",
   "nbconvert_exporter": "python",
   "pygments_lexer": "ipython3",
   "version": "3.12.7"
  }
 },
 "nbformat": 4,
 "nbformat_minor": 5
}
