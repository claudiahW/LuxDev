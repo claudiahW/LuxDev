{
 "cells": [
  {
   "cell_type": "markdown",
   "metadata": {},
   "source": [
    "$S$ is how you write a set in markdown"
   ]
  },
  {
   "cell_type": "code",
   "execution_count": 5,
   "metadata": {},
   "outputs": [
    {
     "data": {
      "text/plain": [
       "{2, 3, 4, 6, 8, 9, 12}"
      ]
     },
     "execution_count": 5,
     "metadata": {},
     "output_type": "execute_result"
    }
   ],
   "source": [
    "# checking the type of S\n",
    "\n",
    "#S = {1, 2, 3}\n",
    "#type(S)\n",
    "\n",
    "#A = {1,2,3}\n",
    "#B = {1,2,3}\n",
    "#C = {1,2}\n",
    "\n",
    "#A <= C\n",
    "\n",
    "# unions in python\n",
    "\n",
    "S = {3, 6, 9, 12}\n",
    "T = {2, 4, 6, 8}\n",
    "\n",
    "omega = {2, 3, 4, 6, 8, 9, 10, 12, 14, 15, 16, 18, 20}\n",
    "\n",
    "S | T"
   ]
  }
 ],
 "metadata": {
  "kernelspec": {
   "display_name": "base",
   "language": "python",
   "name": "python3"
  },
  "language_info": {
   "codemirror_mode": {
    "name": "ipython",
    "version": 3
   },
   "file_extension": ".py",
   "mimetype": "text/x-python",
   "name": "python",
   "nbconvert_exporter": "python",
   "pygments_lexer": "ipython3",
   "version": "3.12.7"
  }
 },
 "nbformat": 4,
 "nbformat_minor": 2
}
