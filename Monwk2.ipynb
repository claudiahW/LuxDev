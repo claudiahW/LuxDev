{
 "cells": [
  {
   "cell_type": "code",
   "execution_count": null,
   "metadata": {
    "vscode": {
     "languageId": "plaintext"
    }
   },
   "outputs": [],
   "source": []
  },
  {
   "cell_type": "markdown",
   "metadata": {},
   "source": [
    "# Daily Assignment\n",
    "\n",
    "Q1. Differentiate between precision and recall.\n",
    "\n",
    "\n",
    "precision focuses on minimizing false positives, while recall focuses on minimizing false negatives.\n",
    "Precision can be seen as a measure of quality, and recall as a measure of quantity.\n",
    "\n"
   ]
  }
 ],
 "metadata": {
  "language_info": {
   "name": "python"
  }
 },
 "nbformat": 4,
 "nbformat_minor": 2
}
