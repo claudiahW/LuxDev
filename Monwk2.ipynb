{
 "cells": [
  {
   "cell_type": "code",
   "execution_count": null,
   "metadata": {},
   "outputs": [],
   "source": [
    "#import libraries\n",
    "import pandas as pd\n"
   ]
  },
  {
   "cell_type": "code",
   "execution_count": null,
   "metadata": {},
   "outputs": [],
   "source": [
    "df = pd.read_csv(r'train_data_cross-sell.csv', encoding='latin1')\n",
    "\n",
    "#now, rename the column\n",
    "df.rename(columns={'ÿid': 'id'}, inplace=True)\n",
    "\n",
    "df.value_counts()"
   ]
  },
  {
   "cell_type": "code",
   "execution_count": null,
   "metadata": {},
   "outputs": [],
   "source": [
    "#step 1: calculate performance scores (premium and agent name)\n",
    "\n",
    "df = pd.read_csv(r'train_data_cross-sell.csv', encoding='latin1')\n",
    "\n",
    "performance_scores = df.groupby('Agent_name')['Annual_premium'].sum().reset_index(name='performance_score')\n",
    "\n",
    "#step  2: merge performance scores back into the original dataframe\n",
    "\n",
    "df = df.merge(performance_scores,on='Agent_name')\n",
    "\n",
    "#step 3: define performance categories based on quartiles as an example\n",
    "\n",
    "performance_quartiles = df['performance_score'].quantile([0.25, 0.5, 0.75]).to_dict()\n",
    "\n",
    "\n",
    "#step 4: function to categorize agents based on performance quartiles\n",
    "\n",
    "def categorize_performance(score):\n",
    "    if score <= performance_quartiles[0.25]:\n",
    "        return 'Low'\n",
    "    elif score > performance_quartiles[0.25] and score <= performance_quartiles[0.5]:\n",
    "        return 'Medium'\n",
    "    elif score > performance_quartiles[0.5] and score <= performance_quartiles[0.75]:\n",
    "        return 'High'\n",
    "    else:\n",
    "        return 'Very High'\n",
    "    \n",
    "#step 5: Apply the categorisation function to the performance score column\n",
    "\n",
    "df['agent_performance_category'] = df['performance_score'].apply(categorize_performance)\n",
    "\n",
    "agents = df['Agent_name']\n",
    "\n",
    "#step 6: Drop the agentid and performance_score columns if no longer needed\n",
    "\n",
    "df = df.drop(['Agent_name', 'performance_score'], axis=1)\n",
    "\n",
    "df.head()\n"
   ]
  },
  {
   "cell_type": "markdown",
   "metadata": {},
   "source": [
    "# Daily Assignment\n",
    "\n",
    "Q1. Differentiate between precision and recall.\n",
    "\n",
    "\n",
    "precision focuses on minimizing false positives, while recall focuses on minimizing false negatives.\n",
    "Precision can be seen as a measure of quality, and recall as a measure of quantity.\n",
    "\n",
    "Q2. Between false negatives and false positives what is a type I error and a type II.\n",
    "\n",
    "A type I error is a false positive, while a type II error is a false negative.\n",
    "\n",
    "\n"
   ]
  }
 ],
 "metadata": {
  "kernelspec": {
   "display_name": "base",
   "language": "python",
   "name": "python3"
  },
  "language_info": {
   "codemirror_mode": {
    "name": "ipython",
    "version": 3
   },
   "file_extension": ".py",
   "mimetype": "text/x-python",
   "name": "python",
   "nbconvert_exporter": "python",
   "pygments_lexer": "ipython3",
   "version": "3.12.7"
  }
 },
 "nbformat": 4,
 "nbformat_minor": 2
}
