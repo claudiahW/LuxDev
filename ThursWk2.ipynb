{
 "cells": [
  {
   "cell_type": "code",
   "execution_count": null,
   "metadata": {},
   "outputs": [],
   "source": [
    "Take a sample of 50 people.Get a dataset from chatgpt.\n",
    "\n",
    "1.calculate the sample mean.\n",
    "2.calculate the population mean.\n",
    "3. find the difference between them and\n",
    "4.Find the percent error."
   ]
  },
  {
   "cell_type": "code",
   "execution_count": null,
   "metadata": {},
   "outputs": [],
   "source": [
    "import "
   ]
  },
  {
   "cell_type": "code",
   "execution_count": null,
   "metadata": {},
   "outputs": [],
   "source": [
    "df = [22, 25, 27, 30, 22, 24, 29, 28, 26, 30, 31, 33, 35, 32, 34, 36, 38, 37, 39, 40, 41, 43, 45, 42, 44, 46, 48, 47, 49, 50, 51, 53, 55, 52, 54, 56, 58, 57, 59, 60, 61, 63, 65, 62, 64, 66, 68, 67, 69, 70]"
   ]
  }
 ],
 "metadata": {
  "kernelspec": {
   "display_name": "base",
   "language": "python",
   "name": "python3"
  },
  "language_info": {
   "name": "python",
   "version": "3.12.7"
  }
 },
 "nbformat": 4,
 "nbformat_minor": 2
}
