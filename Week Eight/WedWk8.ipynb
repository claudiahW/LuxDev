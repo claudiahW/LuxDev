{
 "cells": [
  {
   "cell_type": "markdown",
   "id": "2391df90",
   "metadata": {},
   "source": [
    "#### Q1. Do the labs on linear regression.\n",
    "\n",
    "#### Q2. What is a linear regression model used for?\n",
    "\n",
    "#### Q3. What is statistical modelling?\n",
    "\n",
    "#### Q4. Independent vs dependent variables.\n",
    "\n",
    "#### Q5. steps to statistical modeling.\n",
    "        construct the model.\n",
    "        assess the quality of the models.\n",
    "        come up with conclusions.\n",
    "\n",
    "#### Q6. What is feature engineering, feature selection and feature importance?\n",
    "\n",
    "#### Q7. What is smote scaling?\n",
    "\n",
    "#### Q8. What is data understanding?\n",
    "\n",
    "#### Q9. (ASS) Do house prices prediction.\n",
    "\n",
    "#### Q10. What does a loss function do?\n",
    "\n",
    "#### Q11. List the different types of loss function?\n",
    "\n",
    "#### Q12. What are some of the metrics used for linear regression?\n",
    "\n",
    "#### Q13. Use loss functions for house prices model.Victor used MSE,MAE and r-squared score.\n",
    "\n",
    "#### Q14. What is the relationship between linear regression and the t-test?\n",
    "\n",
    "#### Q15. \n",
    "\n",
    "\n"
   ]
  }
 ],
 "metadata": {
  "language_info": {
   "name": "python"
  }
 },
 "nbformat": 4,
 "nbformat_minor": 5
}
