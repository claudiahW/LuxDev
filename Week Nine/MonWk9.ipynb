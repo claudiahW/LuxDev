{
 "cells": [
  {
   "cell_type": "markdown",
   "id": "38108f83",
   "metadata": {},
   "source": [
    "#### Q1. How do you do an inverse log transformation?\n",
    "\n",
    "#### Q2. Difference between data Transformation, normalization and standardization?\n",
    "\n",
    "#### Q3. What is scaling in Machine Learning?\n",
    "\n",
    "#### Q4. What is zero centering ?\n",
    "\n",
    "#### Q5. What is the formula for standard deviation?\n",
    "\n",
    "#### Q6. Why do we use standard scalar?\n",
    "\n",
    "#### Q7. When do you use standard scalar?\n",
    "\n",
    "#### Q8. What is min max scalar and mean normalization?\n",
    "\n",
    "#### Q9. What is robust scalar normalization?\n",
    "\n",
    "#### Q10. Write an ARTICLE on log transformations.\n",
    "\n",
    "#### Q11. What is homoscedacisity?\n",
    "\n",
    "#### Q12. Different categories of Machine Learning?\n",
    "\n",
    "#### p.s . We majorly deal with supervised Machine learning i.e regression and classification.\n",
    "\n",
    "#### Q13. Research more on regression models and classification models too.\n",
    "\n"
   ]
  }
 ],
 "metadata": {
  "language_info": {
   "name": "python"
  }
 },
 "nbformat": 4,
 "nbformat_minor": 5
}
