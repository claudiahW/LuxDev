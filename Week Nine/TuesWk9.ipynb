{
 "cells": [
  {
   "cell_type": "markdown",
   "id": "c360dce7",
   "metadata": {},
   "source": [
    "#### Q1. What is PCA used for?\n",
    "\n",
    "#### Q2. What is a z-plane?\n",
    "\n",
    "#### Q3. SVM, KNN and Naives Bayes?\n",
    "\n",
    "#### Q4. With logistic regression being the most common classification algorithm, List other classification algorithms.\n",
    "    decision-tree classifiers\n",
    "    random-forest classifiers\n",
    "    MLP Classifiers.\n",
    "    SVM\n",
    "    SVC\n",
    "\n",
    "#### Q5. What is an objective function?\n",
    "\n",
    "#### Q6. What are the limitations of labelled data?\n",
    "\n",
    "#### Q7. What is exponential distribution?\n",
    "\n",
    "#### Q8. What is a polynomial distribution?\n",
    "\n",
    "#### Q9. Why and how do we perform smote?\n",
    "\n",
    "#### Q10. What is Domain expertise?\n",
    "\n",
    "\n",
    "\n"
   ]
  }
 ],
 "metadata": {
  "language_info": {
   "name": "python"
  }
 },
 "nbformat": 4,
 "nbformat_minor": 5
}
