{
 "cells": [
  {
   "cell_type": "code",
   "execution_count": null,
   "metadata": {},
   "outputs": [],
   "source": [
    "import numpy as np\n",
    "import pandas as pd\n",
    "import scipy.stats as stats\n",
    "import matplotlib.pyplot as plt"
   ]
  },
  {
   "cell_type": "code",
   "execution_count": null,
   "metadata": {},
   "outputs": [],
   "source": [
    "# Generate sample data as a normal continuous random variable\n",
    "sample_data = stats.norm.rvs(loc=20, scale=2, size=50, random_state=5)\n",
    "\n",
    "# Plot data as well as theoretical mean of 21\n",
    "fig, ax = plt.subplots()\n",
    "ax.hist(sample_data, alpha=0.5, label=\"Sample Data\")\n",
    "ax.axvline(sample_data.mean(), linestyle=\"--\", label=r\"Sample Mean $\\mu$\")\n",
    "ax.axvline(21, linestyle=\"--\", color=\"orange\", label=r\"Theoretical Mean $\\mu_{0}$\")\n",
    "ax.set_ylabel(\"Count\")\n",
    "ax.legend();"
   ]
  },
  {
   "cell_type": "code",
   "execution_count": null,
   "metadata": {},
   "outputs": [],
   "source": [
    "stats.ttest_1samp(sample_data, 21)"
   ]
  },
  {
   "cell_type": "code",
   "execution_count": null,
   "metadata": {},
   "outputs": [],
   "source": [
    "# Data from sportsbettingdime.com\n",
    "sb_data = pd.read_csv(\"superbowl.csv\")\n",
    "sb_data.tail()"
   ]
  },
  {
   "cell_type": "code",
   "execution_count": null,
   "metadata": {},
   "outputs": [],
   "source": [
    "coin_toss_counts = sb_data[\"Coin Toss Outcome\"].value_counts().sort_index()\n",
    "coin_toss_counts"
   ]
  },
  {
   "cell_type": "code",
   "execution_count": null,
   "metadata": {},
   "outputs": [],
   "source": [
    "fig, ax = plt.subplots()\n",
    "\n",
    "# Extract observed counts\n",
    "fair_coin_observed = coin_toss_counts.values\n",
    "# Heads and tails each expected half the time\n",
    "fair_coin_expected = [sum(coin_toss_counts)/2, sum(coin_toss_counts)/2]\n",
    "\n",
    "# Placeholder data for display purposes; you can ignore these values\n",
    "x = np.array([0, 5])\n",
    "offset = 1\n",
    "bar_width = 2\n",
    "\n",
    "# Plot bars\n",
    "ax.bar(x-offset, fair_coin_observed, bar_width, label=\"Observed\")\n",
    "ax.bar(x+offset, fair_coin_expected, bar_width, label=\"Expected\")\n",
    "\n",
    "# Customize appearance\n",
    "ax.set_xticks(x)\n",
    "ax.set_xticklabels([\"Heads\", \"Tails\"])\n",
    "ax.set_ylabel(\"Count\")\n",
    "ax.legend(loc=\"right\")\n",
    "fig.suptitle(\"Super Bowl Coin Tosses\");"
   ]
  },
  {
   "cell_type": "code",
   "execution_count": null,
   "metadata": {},
   "outputs": [],
   "source": [
    "fair_coin_result = stats.chisquare(fair_coin_observed, fair_coin_expected)\n",
    "fair_coin_result"
   ]
  },
  {
   "cell_type": "code",
   "execution_count": null,
   "metadata": {},
   "outputs": [],
   "source": [
    "game_winner_counts_sb = sb_data[\"Game Winner\"].value_counts().sort_index()\n",
    "game_winner_counts_sb"
   ]
  },
  {
   "cell_type": "code",
   "execution_count": null,
   "metadata": {},
   "outputs": [],
   "source": [
    "fig, ax = plt.subplots()\n",
    "\n",
    "# Extract data\n",
    "observed = game_winner_counts_sb.values\n",
    "expected = [sum(game_winner_counts_sb)/2, sum(game_winner_counts_sb)/2]\n",
    "\n",
    "# Plot bars\n",
    "ax.bar(x-offset, observed, bar_width, label=\"Observed\")\n",
    "ax.bar(x+offset, expected, bar_width, label=\"Expected\")\n",
    "\n",
    "# Customize appearance\n",
    "ax.set_xticks(x)\n",
    "ax.set_xticklabels([\"Away Team Wins\", \"Home Team Wins\"])\n",
    "ax.set_ylabel(\"Count\")\n",
    "ax.legend(loc=\"right\")\n",
    "fig.suptitle(\"Super Bowl Home-Field Advantage\");"
   ]
  },
  {
   "cell_type": "code",
   "execution_count": null,
   "metadata": {},
   "outputs": [],
   "source": [
    "home_field_advantage_result_sb = stats.chisquare(observed, expected)\n",
    "home_field_advantage_result_sb"
   ]
  },
  {
   "cell_type": "code",
   "execution_count": 13,
   "metadata": {},
   "outputs": [
    {
     "data": {
      "text/plain": [
       "Game Winner\n",
       "Away Team    5265\n",
       "Home Team    7066\n",
       "Name: count, dtype: int64"
      ]
     },
     "execution_count": 13,
     "metadata": {},
     "output_type": "execute_result"
    }
   ],
   "source": [
    "# Data from FiveThirtyEight\n",
    "nfl_data = pd.read_csv(\"nfl_games.csv\")\n",
    "# Narrow to relevant rows\n",
    "nfl_data = nfl_data[(nfl_data[\"neutral\"] == 0) & (nfl_data[\"playoff\"] == 0) & (nfl_data[\"season\"] >= 1966 )]\n",
    "# Engineer a new feature\n",
    "nfl_data.loc[nfl_data[\"result1\"] == 0, \"Game Winner\"] = \"Away Team\"\n",
    "nfl_data.loc[nfl_data[\"result1\"] == 1, \"Game Winner\"] = \"Home Team\"\n",
    "\n",
    "game_winner_counts_nfl = nfl_data[\"Game Winner\"].value_counts().sort_index()\n",
    "game_winner_counts_nfl"
   ]
  },
  {
   "cell_type": "code",
   "execution_count": 14,
   "metadata": {},
   "outputs": [
    {
     "data": {
      "image/png": "[encoded data removed]",
      "text/plain": [
       "<Figure size 640x480 with 1 Axes>"
      ]
     },
     "metadata": {},
     "output_type": "display_data"
    }
   ],
   "source": [
    "fig, ax = plt.subplots()\n",
    "\n",
    "# Extract data\n",
    "observed = game_winner_counts_sb.values\n",
    "expected = [sum(game_winner_counts_sb)/2, sum(game_winner_counts_sb)/2]\n",
    "\n",
    "# Plot bars\n",
    "ax.bar(x-offset, observed, bar_width, label=\"Observed\")\n",
    "ax.bar(x+offset, expected, bar_width, label=\"Expected\")\n",
    "\n",
    "# Customize appearance\n",
    "ax.set_xticks(x)\n",
    "ax.set_xticklabels([\"Away Team Wins\", \"Home Team Wins\"])\n",
    "ax.set_ylabel(\"Count\")\n",
    "ax.legend(loc=\"right\")\n",
    "fig.suptitle(\"Super Bowl Home-Field Advantage\");"
   ]
  }
 ],
 "metadata": {
  "kernelspec": {
   "display_name": "base",
   "language": "python",
   "name": "python3"
  },
  "language_info": {
   "codemirror_mode": {
    "name": "ipython",
    "version": 3
   },
   "file_extension": ".py",
   "mimetype": "text/x-python",
   "name": "python",
   "nbconvert_exporter": "python",
   "pygments_lexer": "ipython3",
   "version": "3.12.7"
  }
 },
 "nbformat": 4,
 "nbformat_minor": 2
}
