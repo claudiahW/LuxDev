{
 "cells": [
  {
   "cell_type": "markdown",
   "id": "082a7465",
   "metadata": {},
   "source": [
    "#### Q1. List different types of chi-square tests.\n",
    "\n",
    "#### Q2. What is Coefficient of correlation?\n",
    "\n",
    "#### Q3. What is Pearssons coef?\n",
    "\n",
    "#### Q4. What is Variance Inflation Factor?\n",
    "\n",
    "#### Q5. What is the meaning of Direction/ Magnitude of multicollinearity?\n",
    "\n",
    "#### Q6. What is the difference between testing for independence and testing for goodness of fit?\n",
    "\n",
    "#### Q7. p-value vs z-score?\n",
    "\n",
    "#### Q8. ASS ART: Bayes Theorem.Why we use it and Where we use it?\n",
    "\n",
    "#### Q9. Do Beta Fish labs.\n",
    "\n",
    "#### Q10. What is Prior Probability?\n",
    "\n",
    "#### Q11. Do the Arsenal Probabilty question and share on github.\n",
    "    Also do using t-test.\n",
    "\n",
    "#### Q12.Do house prices as well as crop data please.\n",
    "\n",
    "#### Q13. What is chi-square homogeinity ?\n",
    "\n",
    "#### Q14. What is categorical data? Give examples.\n",
    "\n",
    "#### Q15. Do superbowl data. (wyc assignment)\n",
    "\n",
    "#### Q16. What is a power divergent statistic?\n",
    "\n",
    "#### Q17. Goodness of fit application of the chi-square?\n",
    "\n",
    "#### Q18. When do we say there is no statitistical significance?\n",
    "\n",
    "#### Q19. What does domain-specific problem stand for?\n",
    "\n",
    "#### Q20. Research on python list comprehension.\n",
    "\n",
    "#### Q21. How do you plot the chi square?\n",
    "\n",
    "#### Q22. What are the three degrees of freedom?\n",
    "\n",
    "#### Q23. Get the three chi-square distributions by degrees of freedom.\n",
    "\n",
    "#### Q24. (ASS) Do superbowl dataset.\n",
    "\n",
    "#### Q25. What is cross-tabulation?\n",
    "\n",
    "#### Q26. What is a contingency table?\n",
    "\n",
    "#### Q27.  Soccer analysis with Stacy?\n",
    "\n",
    "#### Q28. How do you build a web scraper?\n",
    "\n",
    "#### Q29. How do you come up with a homogeneity table?\n",
    "\n",
    "#### Q30. What are the steps required to design, structure and run an A/B test?\n",
    "\n",
    "\n",
    "\n",
    "\n",
    "\n",
    "\n",
    "\n"
   ]
  },
  {
   "cell_type": "code",
   "execution_count": null,
   "id": "0acfad34",
   "metadata": {
    "vscode": {
     "languageId": "plaintext"
    }
   },
   "outputs": [],
   "source": []
  }
 ],
 "metadata": {
  "language_info": {
   "name": "python"
  }
 },
 "nbformat": 4,
 "nbformat_minor": 5
}
