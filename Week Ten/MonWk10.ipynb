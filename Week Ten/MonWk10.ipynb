{
 "cells": [
  {
   "cell_type": "markdown",
   "id": "9ce6531d",
   "metadata": {},
   "source": [
    "#### Q1. What does ROC Curve do?\n",
    "\n",
    "#### Q2. What is a decision boundary?\n",
    "\n",
    "#### Q3. Do logistic regression labs on titanic data.\n",
    "\n",
    "#### Q4. What is class weight?\n",
    "\n",
    "#### Q5. Oversampling vs undersampling?\n",
    "\n",
    "#### Q6. What is smote and how and why do we use it?\n",
    "\n",
    "#### Q7. What is the curse of dimensionality?\n",
    "\n",
    "#### Q8. Research more on decision trees.\n",
    "\n",
    "#### Q9. What is a DAG?\n",
    "\n",
    "#### Q10. decorators in python?\n",
    "\n",
    "#### Q11. what is an Acyclic graph?\n",
    "\n",
    "#### Q12. What is a multiclass problem?\n",
    "\n",
    "#### Q13. Precision vs recall?\n",
    "\n",
    "#### Q14. What is a harmonic mean?\n",
    "\n",
    "#### Q15. Regression vs Classification?\n",
    "\n",
    "#### Q16. do logistic regression lab ie heart.csv\n",
    "\n",
    "#### Q17. "
   ]
  }
 ],
 "metadata": {
  "language_info": {
   "name": "python"
  }
 },
 "nbformat": 4,
 "nbformat_minor": 5
}
