{
 "cells": [
  {
   "cell_type": "markdown",
   "id": "09d2016f",
   "metadata": {},
   "source": [
    "#### Q1. How do you fit a decision tree?\n",
    "\n",
    "#### Q2. What is a cartesian plane?\n",
    "\n",
    "#### Q3. \n",
    "\n",
    "\n",
    "\n",
    "\n",
    "\n",
    "#### Q8. Do iris dataset.\n",
    "\n",
    "#### Q9. What exactly is Class imbalance?\n",
    "\n",
    "#### Q10. What is entropy?\n",
    "\n",
    "#### Q11. What is set depth?\n",
    "\n",
    "#### Q12. What is hyperparameter tuning?\n",
    "\n",
    "#### Q13. What is a dichotomizer?\n"
   ]
  }
 ],
 "metadata": {
  "language_info": {
   "name": "python"
  }
 },
 "nbformat": 4,
 "nbformat_minor": 5
}
