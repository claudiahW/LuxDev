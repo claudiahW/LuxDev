{
 "cells": [
  {
   "cell_type": "code",
   "execution_count": null,
   "id": "2c57d20f",
   "metadata": {},
   "outputs": [],
   "source": [
    "import numpy as np \n",
    "\n"
   ]
  },
  {
   "cell_type": "markdown",
   "id": "7b7c655b",
   "metadata": {},
   "source": [
    "#### Q1.  What is dimensionality reduction?\n",
    "\n",
    "#### Q2. What is the curse of dimensionality?\n",
    "\n",
    "#### Q3. Steps for performing PCA?\n",
    "\n",
    "#### Q4. K-Nearest Neighbors?\n",
    "\n",
    "#### Q5. K-means?\n",
    "\n",
    "#### Q6. List all available dimensinality reduction techniques.\n",
    "\n",
    "#### Q7. What is clustering?\n",
    "\n",
    "#### Q8. Idenitify real world situations where we use unsupervised learning.\n",
    "\n",
    "#### Q9. supervised vs unsupervised learning.\n",
    "\n",
    "#### Q10. Different types of clustering algorithms.\n",
    "\n",
    "#### Q11. What is RFM?\n",
    "\n",
    "#### Q12. How do we use PCA to reduce dimensionality?\n",
    "\n",
    "#### Q13. What are the two most important aspects of unsupervised learning?\n",
    "\n",
    "#### Q14. What is a DRA? Give examples\n",
    "\n",
    "#### Q15. Digital image processing in PCA?\n",
    "\n",
    "#### Q16. Do curse of dimensionality labs(unnoficial assignment)\n",
    "\n",
    "#### Q17. What are the three common distances in knn?\n",
    "\n",
    "#### Q18. Embedding and Vector Spaces.\n",
    "\n",
    "#### Q19. Formula for calculatin euclidean distance?\n",
    "\n",
    "#### Q20. Finding optimal k in knn?\n",
    "\n",
    "#### Q21. What is the average distance from origin known as?\n",
    "\n",
    " #### Q22. What exactly is convergence time?\n",
    "\n",
    " #### Q23. PCA in Scikitlearn?\n",
    "\n",
    " #### Q24. Steps while performing PCA are?\n",
    "\n",
    " #### Q25. (ass) regularization techniques vs scaling.and their key differences.\n",
    "\n",
    " #### Q26. lasso and ridge?\n",
    "\n",
    " #### Q27. \n"
   ]
  }
 ],
 "metadata": {
  "language_info": {
   "name": "python"
  }
 },
 "nbformat": 4,
 "nbformat_minor": 5
}
