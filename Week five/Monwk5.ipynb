{
 "cells": [
  {
   "cell_type": "code",
   "execution_count": 1,
   "id": "2cdab908",
   "metadata": {},
   "outputs": [],
   "source": [
    "#independent t-test example\n",
    "\n",
    "import numpy as np #performs numeric computations\n",
    "from scipy import stats #used for probabilistic distributions and statistical operations.\n",
    "import matplotlib.pyplot as plt #for lol level graph plotting\n",
    "import seaborn as sns #for more advanced graph plotting"
   ]
  },
  {
   "cell_type": "code",
   "execution_count": null,
   "id": "18df1633",
   "metadata": {},
   "outputs": [],
   "source": [
    "#example data\n",
    "\n",
    "group1 = np.random.normal(loc=5.0, scale=1.0, size=30) \n",
    "group2 = np.random.normal(loc=7.0, scale=1.0, size=30)\n",
    "\n",
    "#This line generates 30 random numbers from a normal (Gaussian) distribution with:a mean (loc) of 5.0\n",
    "#a standard deviation (scale) of 1.0\n",
    "\n",
    "\n"
   ]
  }
 ],
 "metadata": {
  "kernelspec": {
   "display_name": "base",
   "language": "python",
   "name": "python3"
  },
  "language_info": {
   "codemirror_mode": {
    "name": "ipython",
    "version": 3
   },
   "file_extension": ".py",
   "mimetype": "text/x-python",
   "name": "python",
   "nbconvert_exporter": "python",
   "pygments_lexer": "ipython3",
   "version": "3.12.7"
  }
 },
 "nbformat": 4,
 "nbformat_minor": 5
}
