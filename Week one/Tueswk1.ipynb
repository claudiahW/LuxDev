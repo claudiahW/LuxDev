{
 "cells": [
  {
   "cell_type": "markdown",
   "metadata": {},
   "source": [
    "Q1. What is the difference between a Variable and a Dataframe?\n",
    "\n",
    "\n",
    "Ans. A data frame is a table with rows and columns. The rows of a data frame are observations. Each column of a data frame contains one of the collected measures of the study.\n",
    "\n",
    "Q2.Get the mean standard deviation using a for loop.\n"
   ]
  },
  {
   "cell_type": "code",
   "execution_count": null,
   "metadata": {},
   "outputs": [],
   "source": [
    "import pandas as pd "
   ]
  },
  {
   "cell_type": "code",
   "execution_count": null,
   "metadata": {},
   "outputs": [],
   "source": [
    "\n",
    "# tuple example\n",
    "first_variable = list[(1,2,3)]\n",
    "\n",
    "type(first_variable())\n",
    "\n",
    "\n"
   ]
  },
  {
   "cell_type": "code",
   "execution_count": null,
   "metadata": {},
   "outputs": [],
   "source": [
    "\n",
    "# list example\n",
    "second_variable = [4,5,6]\n",
    "\n",
    "second_variable.append(3)\n",
    "\n",
    "new_variable = second_variable.append(4)\n",
    "\n",
    "second_variable"
   ]
  },
  {
   "cell_type": "code",
   "execution_count": null,
   "metadata": {},
   "outputs": [],
   "source": [
    "\n",
    "# set example\n",
    "third_variable = {1,2,3}\n",
    "\n",
    "third_variable"
   ]
  },
  {
   "cell_type": "code",
   "execution_count": null,
   "metadata": {},
   "outputs": [],
   "source": [
    "# assigning different dtypes variables\n",
    "\n",
    "collection_of_integers = (1,2,3)\n",
    "collection_of_floats = (1.0,2.0,3.0)\n",
    "collection_of_strings = ('a','b','c')\n",
    "collection_of_lists = ([1,2,3],[4,5,6])\n",
    "collection_of_tuples = ((1,2,3),(4,5,6))\n",
    "collection_of_dicts = ({'a':1,'b':2},{'c':3,'d':4})\n",
    "collection_of_sets = ({1,2,3},{4,5,6})\n",
    "\n",
    "collection_of_integers"
   ]
  },
  {
   "cell_type": "code",
   "execution_count": null,
   "metadata": {},
   "outputs": [],
   "source": [
    "# dictionary example\n",
    "\n",
    "my_simple_dictionary = {\"Geisha\": \"2\", \"Sunlight\": \"4\"}\n",
    "\n",
    "my_simple_dictionary['Sunlight']\n"
   ]
  },
  {
   "cell_type": "code",
   "execution_count": null,
   "metadata": {},
   "outputs": [],
   "source": [
    "longer_dict = {'Names' : ['Peter', 'Mary', 'Michael', 'John'],\n",
    "               'Age' : ['21','22','23','24'],\n",
    "               'Roles': ['Engineer', 'Analyst','Storyteller', 'Scientist']}\n",
    "\n",
    "df = pd.DataFrame(longer_dict)\n",
    "\n",
    "df.to_csv('fileone.csv', header=False, index=False)\n",
    "\n",
    "df.to_excel('filetwo.xlsx')\n"
   ]
  },
  {
   "cell_type": "code",
   "execution_count": null,
   "metadata": {},
   "outputs": [],
   "source": [
    "zero_to_three = [0,1,2,3]\n",
    "\n",
    "for number in zero_to_three:\n",
    "    print(number)"
   ]
  },
  {
   "cell_type": "code",
   "execution_count": null,
   "metadata": {},
   "outputs": [],
   "source": [
    "# python nested loop example \n",
    "\n",
    "x = [1, 2]\n",
    "y = [4, 5]\n",
    "\n",
    "for i in x:\n",
    "  for j in y:\n",
    "    print(i, j)\n",
    "\n"
   ]
  },
  {
   "cell_type": "code",
   "execution_count": null,
   "metadata": {},
   "outputs": [],
   "source": [
    "# creating a python function\n",
    "new_employees = ['steven', 'jan', 'meryl']\n",
    "def greet_employees():\n",
    "    welcome_messages = []\n",
    "    for new_employee in new_employees:\n",
    "        welcome_messages.append(\"Hi \" + new_employee.title() + \" It is lovely to meet you\")\n",
    "\n",
    "    return  welcome_messages   \n",
    "greet_employees()    "
   ]
  },
  {
   "cell_type": "code",
   "execution_count": null,
   "metadata": {},
   "outputs": [],
   "source": [
    "def calc(a,v):\n",
    "    return a*v\n",
    "\n",
    "calc(5,4)"
   ]
  },
  {
   "cell_type": "code",
   "execution_count": null,
   "metadata": {},
   "outputs": [],
   "source": [
    "my_list = [54, 54, 54, 55, 56, 57, 57, 58, 58, 60, 60]\n",
    "\n",
    "length = len(my_list)\n",
    "\n",
    "length\n",
    "\n",
    "\n"
   ]
  },
  {
   "cell_type": "code",
   "execution_count": null,
   "metadata": {},
   "outputs": [],
   "source": []
  }
 ],
 "metadata": {
  "kernelspec": {
   "display_name": "base",
   "language": "python",
   "name": "python3"
  },
  "language_info": {
   "codemirror_mode": {
    "name": "ipython",
    "version": 3
   },
   "file_extension": ".py",
   "mimetype": "text/x-python",
   "name": "python",
   "nbconvert_exporter": "python",
   "pygments_lexer": "ipython3",
   "version": "3.12.7"
  }
 },
 "nbformat": 4,
 "nbformat_minor": 2
}
