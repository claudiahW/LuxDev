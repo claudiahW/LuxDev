{
 "cells": [
  {
   "cell_type": "markdown",
   "id": "4b4fb93a",
   "metadata": {},
   "source": [
    "when you import pyforest you dont have to import pandas \n",
    "\n",
    "Pyforest is a Python library that automatically imports commonly used data science libraries, such as pandas, numpy, matplotlib, and seaborn. It allows users to use these libraries without explicitly importing them first. If a library has not been imported yet, pyforest will import it when it is first used and add the import statement to the first cell of the Jupyter Notebook or script. This can save time and effort, especially when working on data science projects that require the use of multiple libraries. Pyforest only imports libraries that are actually used in the code, which can help to improve performance."
   ]
  },
  {
   "cell_type": "markdown",
   "id": "e9debe7e",
   "metadata": {},
   "source": [
    "\n",
    "\n"
   ]
  },
  {
   "cell_type": "code",
   "execution_count": 3,
   "id": "d4ffcf8f",
   "metadata": {},
   "outputs": [],
   "source": [
    "import pandas as pd \n",
    "import numpy as np\n"
   ]
  },
  {
   "cell_type": "code",
   "execution_count": 4,
   "id": "57601918",
   "metadata": {},
   "outputs": [
    {
     "name": "stdout",
     "output_type": "stream",
     "text": [
      "<class 'tuple'>\n"
     ]
    }
   ],
   "source": [
    "f_variable = (1,2,3)\n",
    "\n",
    "print(type(f_variable))"
   ]
  },
  {
   "cell_type": "code",
   "execution_count": 5,
   "id": "2901e3d2",
   "metadata": {},
   "outputs": [
    {
     "name": "stdout",
     "output_type": "stream",
     "text": [
      "<class 'list'>\n"
     ]
    }
   ],
   "source": [
    "s_variable = [1, 2, 3, 4]\n",
    "\n",
    "print(type(s_variable))"
   ]
  },
  {
   "cell_type": "code",
   "execution_count": 6,
   "id": "ed2e6201",
   "metadata": {},
   "outputs": [
    {
     "name": "stdout",
     "output_type": "stream",
     "text": [
      "<class 'set'>\n"
     ]
    }
   ],
   "source": [
    "t_variable = {1, 2, 3, 4}\n",
    "\n",
    "print(type(t_variable))"
   ]
  },
  {
   "cell_type": "code",
   "execution_count": 7,
   "id": "c90a5440",
   "metadata": {},
   "outputs": [
    {
     "name": "stdout",
     "output_type": "stream",
     "text": [
      "{'names': ['Peter', 'James', 'Mary', 'Christine'], 'Ages': [25, 32, 22, 35], 'Occupations': ['Engineer', 'Doctor', 'Teacher', 'Nurse']}\n"
     ]
    }
   ],
   "source": [
    "f_variable = { \n",
    "    \"names\": ['Peter', 'James', 'Mary', 'Christine'] ,\n",
    "    \"Ages\": [25, 32, 22, 35],\n",
    "    \"Occupations\": ['Engineer', 'Doctor', 'Teacher', 'Nurse']\n",
    "}\n",
    "\n",
    "print(f_variable)"
   ]
  },
  {
   "cell_type": "code",
   "execution_count": 8,
   "id": "00a97836",
   "metadata": {},
   "outputs": [
    {
     "data": {
      "application/vnd.microsoft.datawrangler.viewer.v0+json": {
       "columns": [
        {
         "name": "index",
         "rawType": "int64",
         "type": "integer"
        },
        {
         "name": "names",
         "rawType": "object",
         "type": "string"
        },
        {
         "name": "Ages",
         "rawType": "int64",
         "type": "integer"
        },
        {
         "name": "Occupations",
         "rawType": "object",
         "type": "string"
        }
       ],
       "ref": "ce89dd63-dcc1-42b7-8b3b-49ce5cb6fc6a",
       "rows": [
        [
         "0",
         "Peter",
         "25",
         "Engineer"
        ],
        [
         "1",
         "James",
         "32",
         "Doctor"
        ],
        [
         "2",
         "Mary",
         "22",
         "Teacher"
        ],
        [
         "3",
         "Christine",
         "35",
         "Nurse"
        ]
       ],
       "shape": {
        "columns": 3,
        "rows": 4
       }
      },
      "text/html": [
       "<div>\n",
       "<style scoped>\n",
       "    .dataframe tbody tr th:only-of-type {\n",
       "        vertical-align: middle;\n",
       "    }\n",
       "\n",
       "    .dataframe tbody tr th {\n",
       "        vertical-align: top;\n",
       "    }\n",
       "\n",
       "    .dataframe thead th {\n",
       "        text-align: right;\n",
       "    }\n",
       "</style>\n",
       "<table border=\"1\" class=\"dataframe\">\n",
       "  <thead>\n",
       "    <tr style=\"text-align: right;\">\n",
       "      <th></th>\n",
       "      <th>names</th>\n",
       "      <th>Ages</th>\n",
       "      <th>Occupations</th>\n",
       "    </tr>\n",
       "  </thead>\n",
       "  <tbody>\n",
       "    <tr>\n",
       "      <th>0</th>\n",
       "      <td>Peter</td>\n",
       "      <td>25</td>\n",
       "      <td>Engineer</td>\n",
       "    </tr>\n",
       "    <tr>\n",
       "      <th>1</th>\n",
       "      <td>James</td>\n",
       "      <td>32</td>\n",
       "      <td>Doctor</td>\n",
       "    </tr>\n",
       "    <tr>\n",
       "      <th>2</th>\n",
       "      <td>Mary</td>\n",
       "      <td>22</td>\n",
       "      <td>Teacher</td>\n",
       "    </tr>\n",
       "    <tr>\n",
       "      <th>3</th>\n",
       "      <td>Christine</td>\n",
       "      <td>35</td>\n",
       "      <td>Nurse</td>\n",
       "    </tr>\n",
       "  </tbody>\n",
       "</table>\n",
       "</div>"
      ],
      "text/plain": [
       "       names  Ages Occupations\n",
       "0      Peter    25    Engineer\n",
       "1      James    32      Doctor\n",
       "2       Mary    22     Teacher\n",
       "3  Christine    35       Nurse"
      ]
     },
     "execution_count": 8,
     "metadata": {},
     "output_type": "execute_result"
    }
   ],
   "source": [
    "df = pd.DataFrame(f_variable)\n",
    "\n",
    "df"
   ]
  },
  {
   "cell_type": "code",
   "execution_count": 9,
   "id": "cb67cec7",
   "metadata": {},
   "outputs": [
    {
     "ename": "NameError",
     "evalue": "name 'k' is not defined",
     "output_type": "error",
     "traceback": [
      "\u001b[1;31m---------------------------------------------------------------------------\u001b[0m",
      "\u001b[1;31mNameError\u001b[0m                                 Traceback (most recent call last)",
      "Cell \u001b[1;32mIn[9], line 1\u001b[0m\n\u001b[1;32m----> 1\u001b[0m longer_dict \u001b[38;5;241m=\u001b[39m { \u001b[38;5;124m'\u001b[39m\u001b[38;5;124mNames\u001b[39m\u001b[38;5;124m'\u001b[39m : [ k  , \u001b[38;5;124m'\u001b[39m\u001b[38;5;124mMary\u001b[39m\u001b[38;5;124m'\u001b[39m, \u001b[38;5;124m'\u001b[39m\u001b[38;5;124mJames\u001b[39m\u001b[38;5;124m'\u001b[39m, \u001b[38;5;124m'\u001b[39m\u001b[38;5;124mJohn\u001b[39m\u001b[38;5;124m'\u001b[39m],\n\u001b[0;32m      2\u001b[0m                 \u001b[38;5;124m'\u001b[39m\u001b[38;5;124mAge\u001b[39m\u001b[38;5;124m'\u001b[39m : [\u001b[38;5;241m25\u001b[39m, \u001b[38;5;241m31\u001b[39m, \u001b[38;5;241m42\u001b[39m, \u001b[38;5;241m28\u001b[39m],\n\u001b[0;32m      3\u001b[0m                 \u001b[38;5;124m'\u001b[39m\u001b[38;5;124mCountry\u001b[39m\u001b[38;5;124m'\u001b[39m : [\u001b[38;5;124m'\u001b[39m\u001b[38;5;124mUSA\u001b[39m\u001b[38;5;124m'\u001b[39m, \u001b[38;5;124m'\u001b[39m\u001b[38;5;124mUK\u001b[39m\u001b[38;5;124m'\u001b[39m, \u001b[38;5;124m'\u001b[39m\u001b[38;5;124mAustralia\u001b[39m\u001b[38;5;124m'\u001b[39m, \u001b[38;5;124m'\u001b[39m\u001b[38;5;124mGermany\u001b[39m\u001b[38;5;124m'\u001b[39m] \n\u001b[0;32m      4\u001b[0m                 }\n\u001b[0;32m      6\u001b[0m df \u001b[38;5;241m=\u001b[39m pd\u001b[38;5;241m.\u001b[39mDataFrame(longer_dict)\n\u001b[0;32m      8\u001b[0m \u001b[38;5;28mprint\u001b[39m(df)\n",
      "\u001b[1;31mNameError\u001b[0m: name 'k' is not defined"
     ]
    }
   ],
   "source": [
    "longer_dict = { 'Names' : [ k  , 'Mary', 'James', 'John'],\n",
    "                'Age' : [25, 31, 42, 28],\n",
    "                'Country' : ['USA', 'UK', 'Australia', 'Germany'] \n",
    "                }\n",
    "\n",
    "df = pd.DataFrame(longer_dict)\n",
    "\n",
    "print(df)\n",
    "            "
   ]
  },
  {
   "cell_type": "code",
   "execution_count": null,
   "id": "25dde8cc",
   "metadata": {},
   "outputs": [
    {
     "name": "stdout",
     "output_type": "stream",
     "text": [
      "0\n",
      "1\n",
      "2\n",
      "3\n"
     ]
    }
   ],
   "source": [
    "zero_to_three = (0, 1, 2, 3)\n",
    "\n",
    "for number in zero_to_three:\n",
    "    print(number)"
   ]
  },
  {
   "cell_type": "code",
   "execution_count": 3,
   "id": "5e0af0da",
   "metadata": {},
   "outputs": [
    {
     "name": "stdout",
     "output_type": "stream",
     "text": [
      "['Hello', 'Hi', 'Hey']\n"
     ]
    }
   ],
   "source": [
    "def my_func():\n",
    "    greetings = [\"Hello\", \"Hi\", \"Hey\"]\n",
    "    print(greetings)    \n",
    "    \n",
    "my_func()    "
   ]
  },
  {
   "cell_type": "code",
   "execution_count": 13,
   "id": "5b77aa89",
   "metadata": {},
   "outputs": [],
   "source": [
    "def student(name):\n",
    "    greet = \"Hello, \" + name + \" , It is great to meet you!\"\n",
    "    print(greet)"
   ]
  },
  {
   "cell_type": "code",
   "execution_count": 14,
   "id": "f46db404",
   "metadata": {},
   "outputs": [
    {
     "name": "stdout",
     "output_type": "stream",
     "text": [
      "Hello, William , It is great to meet you!\n"
     ]
    }
   ],
   "source": [
    "student('William')"
   ]
  },
  {
   "cell_type": "code",
   "execution_count": 28,
   "id": "47550c3a",
   "metadata": {},
   "outputs": [
    {
     "data": {
      "text/plain": [
       "31"
      ]
     },
     "execution_count": 28,
     "metadata": {},
     "output_type": "execute_result"
    }
   ],
   "source": [
    "def calc(a,b,c):\n",
    "    return a * b + c\n",
    "\n",
    "calc(5,5,6)"
   ]
  },
  {
   "cell_type": "code",
   "execution_count": 30,
   "id": "f2d0eaee",
   "metadata": {},
   "outputs": [],
   "source": [
    "my_list =[1,2,3,4,5,6,7,8]\n",
    "my_second_list = [2,4,6,8,10]"
   ]
  },
  {
   "cell_type": "code",
   "execution_count": 33,
   "id": "f6b696be",
   "metadata": {},
   "outputs": [
    {
     "name": "stdout",
     "output_type": "stream",
     "text": [
      "8\n"
     ]
    },
    {
     "data": {
      "text/plain": [
       "5"
      ]
     },
     "execution_count": 33,
     "metadata": {},
     "output_type": "execute_result"
    }
   ],
   "source": [
    "print(len(my_list))\n",
    "len(my_second_list)"
   ]
  },
  {
   "cell_type": "code",
   "execution_count": null,
   "id": "30a03e7f",
   "metadata": {},
   "outputs": [
    {
     "name": "stdout",
     "output_type": "stream",
     "text": [
      "<class 'pandas.core.frame.DataFrame'>\n",
      "RangeIndex: 4 entries, 0 to 3\n",
      "Data columns (total 3 columns):\n",
      " #   Column   Non-Null Count  Dtype \n",
      "---  ------   --------------  ----- \n",
      " 0   Names    4 non-null      object\n",
      " 1   Age      4 non-null      int64 \n",
      " 2   Country  4 non-null      object\n",
      "dtypes: int64(1), object(2)\n",
      "memory usage: 228.0+ bytes\n"
     ]
    }
   ],
   "source": [
    "df.info()"
   ]
  },
  {
   "cell_type": "code",
   "execution_count": null,
   "id": "fb817eb6",
   "metadata": {},
   "outputs": [
    {
     "data": {
      "application/vnd.microsoft.datawrangler.viewer.v0+json": {
       "columns": [
        {
         "name": "index",
         "rawType": "object",
         "type": "string"
        },
        {
         "name": "0",
         "rawType": "int64",
         "type": "integer"
        }
       ],
       "ref": "b00d891d-0838-4059-9a78-bf842f8bb54c",
       "rows": [
        [
         "Names",
         "0"
        ],
        [
         "Age",
         "0"
        ],
        [
         "Country",
         "0"
        ]
       ],
       "shape": {
        "columns": 1,
        "rows": 3
       }
      },
      "text/plain": [
       "Names      0\n",
       "Age        0\n",
       "Country    0\n",
       "dtype: int64"
      ]
     },
     "execution_count": 13,
     "metadata": {},
     "output_type": "execute_result"
    }
   ],
   "source": [
    "df.isnull().sum()"
   ]
  }
 ],
 "metadata": {
  "kernelspec": {
   "display_name": "base",
   "language": "python",
   "name": "python3"
  },
  "language_info": {
   "codemirror_mode": {
    "name": "ipython",
    "version": 3
   },
   "file_extension": ".py",
   "mimetype": "text/x-python",
   "name": "python",
   "nbconvert_exporter": "python",
   "pygments_lexer": "ipython3",
   "version": "3.12.7"
  }
 },
 "nbformat": 4,
 "nbformat_minor": 5
}
