{
 "cells": [
  {
   "cell_type": "markdown",
   "id": "6b15efe6",
   "metadata": {},
   "source": [
    "#### Q1. How do you deduce your alternative hypothesis?\n",
    "\n",
    "#### Q2.How do you write your alternative hypothesis?\n",
    "\n",
    "#### Q3. How do you calculate critical value?\n",
    "\n",
    "#### Q4. What are Q-Q Nodes?\n",
    "\n",
    "#### Q5. How do you create a function to plot the normal CDF and ECDF for a given dataset?\n",
    "\n",
    "#### Q6.Write a list of keywords in python.\n",
    "\n",
    "#### Q7. How do you compare CDF for KS-Tests when sample size is 100?\n",
    "\n",
    "#### Q8. Research more on splitting data.\n",
    "\n",
    "#### Q9. Research more on cursor ai as well.\n",
    "\n",
    "#### Q10.Find out what the following keywords stand for.\n",
    "  - rvs\n",
    "  - cdf\n",
    "  - args\n",
    "  - N\n",
    "  - alternative \n",
    "  - mode\n",
    "  - D\n",
    "  - p-value\n",
    "\n",
    "#### Q11. How do you get degrees of freedom between groups?\n",
    "\n",
    "#### Q12. How do you calculate f-critical?\n",
    "\n",
    "#### Q13. Do ANOVA labs question for (ASS)\n",
    "\n"
   ]
  }
 ],
 "metadata": {
  "language_info": {
   "name": "python"
  }
 },
 "nbformat": 4,
 "nbformat_minor": 5
}
