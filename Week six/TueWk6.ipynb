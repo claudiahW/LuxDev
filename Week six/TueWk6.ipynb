{
 "cells": [
  {
   "cell_type": "markdown",
   "id": "caa3f399",
   "metadata": {},
   "source": [
    "#### Q1. Do house prices question.\n",
    "\n",
    "#### Q2. Difference between parametric and non-parametric tests.\n",
    "\n",
    "#### Q3. Compare t-tests and chi-square tests.\n",
    "\n",
    "#### Q4. Again, What is goodness of fit?\n",
    "\n",
    "#### Q5. "
   ]
  },
  {
   "cell_type": "markdown",
   "id": "c818f6b2",
   "metadata": {},
   "source": []
  },
  {
   "cell_type": "markdown",
   "id": "d3a8e9dc",
   "metadata": {},
   "source": []
  }
 ],
 "metadata": {
  "language_info": {
   "name": "python"
  }
 },
 "nbformat": 4,
 "nbformat_minor": 5
}
