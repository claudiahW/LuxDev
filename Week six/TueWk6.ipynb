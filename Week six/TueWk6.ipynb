{
 "cells": [
  {
   "cell_type": "markdown",
   "id": "caa3f399",
   "metadata": {},
   "source": [
    "#### Q1. Do house prices question.\n",
    "\n",
    "#### Q2. Difference between parametric and non-parametric tests.\n",
    "\n",
    "#### Q3. Compare t-tests and chi-square tests.\n",
    "\n",
    "#### Q4. Again, What is goodness of fit?\n",
    "\n",
    "#### Q5. What is the formula for expected frequency.\n",
    "\n",
    "#### Q6. Differentiate between observed and expected outcomes.\n",
    "\n",
    "#### Q7. What is statistical power?\n",
    "\n",
    "#### Q8. What is power divergence ?\n",
    "\n",
    "#### Q9. What is the calue count used for?\n",
    "\n",
    "#### Q10. (Wycs Assignment) Using your favorite Sport as a reference, tell us more about the chi square test.ie where and when do we use it?\n",
    "\n",
    "#### Q11. What is aggregating data?\n",
    "\n",
    "#### Q12.  "
   ]
  },
  {
   "cell_type": "markdown",
   "id": "c818f6b2",
   "metadata": {},
   "source": []
  },
  {
   "cell_type": "markdown",
   "id": "d3a8e9dc",
   "metadata": {},
   "source": []
  }
 ],
 "metadata": {
  "language_info": {
   "name": "python"
  }
 },
 "nbformat": 4,
 "nbformat_minor": 5
}
