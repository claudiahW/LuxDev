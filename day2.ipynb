{
 "cells": [
  {
   "cell_type": "markdown",
   "metadata": {},
   "source": []
  },
  {
   "cell_type": "code",
   "execution_count": 2,
   "metadata": {},
   "outputs": [
    {
     "name": "stdout",
     "output_type": "stream",
     "text": [
      "             ÿid  Gender  ...       Life_policy_start_date  Response\n",
      "60349  347359018    Male  ...    Friday, November 10, 2023         0\n",
      "86500  349931875  Female  ...  Tuesday, September 12, 2023         0\n",
      "87013  760803848    Male  ...       Friday, August 4, 2023         0\n",
      "84774  576720094  Female  ...    Thursday, August 24, 2023         0\n",
      "42123  530807088  Female  ...      Saturday, April 8, 2023         0\n",
      "\n",
      "[5 rows x 12 columns]\n"
     ]
    }
   ],
   "source": [
    "\n",
    "import pandas as pd \n",
    "import numpy as np \n",
    "df=pd.read_csv(r'train_data_cross-sell.csv', encoding='latin1')\n",
    "\n",
    "data=df.sort_values(by=\"Agent_name\")\n",
    "print(data.head())\n",
    "\n",
    "\n",
    "\n",
    "\n"
   ]
  }
 ],
 "metadata": {
  "kernelspec": {
   "display_name": "base",
   "language": "python",
   "name": "python3"
  },
  "language_info": {
   "codemirror_mode": {
    "name": "ipython",
    "version": 3
   },
   "file_extension": ".py",
   "mimetype": "text/x-python",
   "name": "python",
   "nbconvert_exporter": "python",
   "pygments_lexer": "ipython3",
   "version": "3.12.7"
  }
 },
 "nbformat": 4,
 "nbformat_minor": 2
}
