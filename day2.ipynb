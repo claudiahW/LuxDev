{
 "cells": [
  {
   "cell_type": "markdown",
   "metadata": {},
   "source": []
  },
  {
   "cell_type": "code",
   "execution_count": 2,
   "metadata": {},
   "outputs": [
    {
     "name": "stdout",
     "output_type": "stream",
     "text": [
      "             ÿid  Gender     Customer_Date_of_Birth  Driving_License  \\\n",
      "60349  347359018    Male  Saturday, January 9, 1965                1   \n",
      "86500  349931875  Female    Saturday, March 1, 1986                1   \n",
      "87013  760803848    Male    Monday, October 1, 1973                1   \n",
      "84774  576720094  Female  Monday, September 9, 1985                1   \n",
      "42123  530807088  Female  Tuesday, January 23, 1979                1   \n",
      "\n",
      "      Customer_Residence_Sub_County  Previously_Insured  \\\n",
      "60349                   NAROK SOUTH                   1   \n",
      "86500                      KASARANI                   0   \n",
      "87013                      KASARANI                   0   \n",
      "84774                        ISINYA                   0   \n",
      "42123                      KASARANI                   1   \n",
      "\n",
      "       Vehicle_Year_of_Manufacture Vehicle_Damage  Annual_Premium  \\\n",
      "60349                         2009             No           28265   \n",
      "86500                         2013            Yes           32271   \n",
      "87013                         2017            Yes            2630   \n",
      "84774                         2015            Yes            2630   \n",
      "42123                         2009             No            2630   \n",
      "\n",
      "             Agent_name       Life_policy_start_date  Response  \n",
      "60349  Achieng Kwamboka    Friday, November 10, 2023         0  \n",
      "86500  Akinyi Chepkorir  Tuesday, September 12, 2023         0  \n",
      "87013  Akinyi Chepkorir       Friday, August 4, 2023         0  \n",
      "84774  Akinyi Chepkorir    Thursday, August 24, 2023         0  \n",
      "42123  Akinyi Chepkorir      Saturday, April 8, 2023         0  \n"
     ]
    }
   ],
   "source": [
    "\n",
    "import pandas as pd \n",
    "df=pd.read_csv(r'train_data_cross-sell.csv', encoding='latin1')\n",
    "\n",
    "data=df.sort_values(by=\"Agent_name\")\n",
    "print(data.head())\n",
    "\n"
   ]
  }
 ],
 "metadata": {
  "kernelspec": {
   "display_name": "base",
   "language": "python",
   "name": "python3"
  },
  "language_info": {
   "codemirror_mode": {
    "name": "ipython",
    "version": 3
   },
   "file_extension": ".py",
   "mimetype": "text/x-python",
   "name": "python",
   "nbconvert_exporter": "python",
   "pygments_lexer": "ipython3",
   "version": "3.12.7"
  }
 },
 "nbformat": 4,
 "nbformat_minor": 2
}
