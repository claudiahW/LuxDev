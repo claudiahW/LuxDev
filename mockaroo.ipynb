{
 "cells": [
  {
   "cell_type": "code",
   "execution_count": null,
   "metadata": {},
   "outputs": [],
   "source": [
    "import pandas as pd\n",
    "from sklearn.datasets import load_wine\n",
    "\n",
    "data = load_wine()\n",
    "df = pd.DataFrame(data.data, columns=data.feature_names)\n",
    "\n",
    "df.loc[df['color_intensity'] > 7, 'shade'] = 'dark'\n",
    "df.loc[df['color_intensity'] <= 7, 'shade'] = 'light'\n",
    "df\n",
    "\n"
   ]
  },
  {
   "cell_type": "code",
   "execution_count": null,
   "metadata": {},
   "outputs": [],
   "source": [
    "import pandas as pd\n",
    "\n",
    "df = pd.read_csv('MOCK_DATA.csv')\n",
    "df.info()\n"
   ]
  },
  {
   "cell_type": "code",
   "execution_count": null,
   "metadata": {},
   "outputs": [],
   "source": [
    "import pandas as pd\n",
    "\n",
    "df = pd.read_csv('titanic.csv', index_col=0)\n",
    "# Get the mean of every numeric column at once\n",
    "df.mean()"
   ]
  },
  {
   "cell_type": "code",
   "execution_count": null,
   "metadata": {},
   "outputs": [],
   "source": [
    "import matplotlib.pyplot as plt\n",
    "%matplotlib inline\n",
    "plt.rcParams['figure.figsize'] = (10, 10)\n",
    "plt.style.available \n"
   ]
  },
  {
   "cell_type": "code",
   "execution_count": null,
   "metadata": {},
   "outputs": [],
   "source": [
    "import pandas as pd\n",
    "import numpy as np\n",
    "\n",
    "np.random.seed(777)\n",
    "\n",
    "data = pd.DataFrame({'A':np.random.randn(365).cumsum(),\n",
    "                    'B':np.random.randn(365).cumsum() + 25,\n",
    "                    'C':np.random.randn(365).cumsum() - 25}, \n",
    "                     index = pd.date_range('1/1/2018', periods = 365))\n",
    "data.head()\n",
    "\n",
    "data.plot('A', 'B', kind='scatter')\n",
    "\n",
    "plt.title('Scatter plot of A and B') "
   ]
  },
  {
   "cell_type": "code",
   "execution_count": null,
   "metadata": {},
   "outputs": [],
   "source": [
    "import pandas as pd\n",
    "\n",
    "df = pd.read_csv('titanic.csv')\n",
    "df = df.drop(columns=['Name','Ticket','Embarked', 'Cabin'])\n",
    "df = df.dropna()\n",
    "\n",
    "# This line of code is equivalent to the one above\n",
    "df.groupby(df['Sex'])\n",
    "\n",
    "df.head()"
   ]
  },
  {
   "cell_type": "code",
   "execution_count": null,
   "metadata": {},
   "outputs": [],
   "source": [
    "import pandas as pd\n",
    "import matplotlib.pyplot as plt\n",
    "%matplotlib inline\n",
    "\n",
    "df = pd.read_csv('titanic.csv')\n",
    "# df.head()\n",
    "\n",
    "pd.plotting.scatter_matrix(df, figsize=(10,10))\n",
    "\n",
    "plt.show()\n",
    "\n",
    "# df.info()\n",
    "\n",
    "duplicates = df[df.duplicated()]\n",
    "print(len(duplicates))\n",
    "duplicates.head()"
   ]
  },
  {
   "cell_type": "code",
   "execution_count": null,
   "metadata": {},
   "outputs": [],
   "source": [
    "import datetime \n",
    "\n",
    "date = datetime.date(2025, 1, 23)\n",
    "today = datetime.date.today()\n",
    "time = datetime.time(12, 30, 0)\n",
    "now = datetime.datetime.now()\n",
    "\n",
    "now =now.strftime(\"%H:%M:%S %m-%d-%Y\")\n",
    "\n",
    "target_datetime = datetime.datetime(2020, 1, 2, 12, 30, 1)\n",
    "current_datetime = datetime.datetime.now()\n",
    "\n",
    "if target_datetime < current_datetime: \n",
    "    print(\"Target date has passed\") \n",
    "\n",
    "else:\n",
    "    print(\"Target date has not passed\")\n"
   ]
  },
  {
   "cell_type": "code",
   "execution_count": null,
   "metadata": {},
   "outputs": [],
   "source": [
    "import threading \n",
    "\n",
    "def walk_dog():\n",
    "    time.sleep(8)\n",
    "    print(\"Walking the dog...\")\n",
    "\n",
    "def take_out_trash():\n",
    "    time.sleep(2)\n",
    "    print(\"Taking out the trash...\")\n",
    "\n",
    "def get_mail():\n",
    "    time.sleep(4)\n",
    "    print(\"Getting the mail...\")\n",
    "\n",
    "walk_dog()\n",
    "take_out_trash()\n",
    "get_mail()"
   ]
  },
  {
   "cell_type": "code",
   "execution_count": 3,
   "metadata": {},
   "outputs": [
    {
     "data": {
      "text/plain": [
       "False"
      ]
     },
     "execution_count": 3,
     "metadata": {},
     "output_type": "execute_result"
    }
   ],
   "source": [
    "S = {1, 2, 3}\n",
    "type(S)\n",
    "\n",
    "1 not in S"
   ]
  },
  {
   "cell_type": "code",
   "execution_count": 9,
   "metadata": {},
   "outputs": [
    {
     "data": {
      "text/plain": [
       "True"
      ]
     },
     "execution_count": 9,
     "metadata": {},
     "output_type": "execute_result"
    }
   ],
   "source": [
    "# Setting up example sets\n",
    "A = {1, 2, 3}\n",
    "B = {1, 2, 3}\n",
    "C = {1, 2}\n",
    "\n",
    "\n",
    "\n",
    "\n",
    "# We're asking \"is A a superset of C?\"\n",
    "A >= C"
   ]
  },
  {
   "cell_type": "code",
   "execution_count": 16,
   "metadata": {},
   "outputs": [
    {
     "name": "stdout",
     "output_type": "stream",
     "text": [
      "Cardinality of (S | T)\n",
      "8\n"
     ]
    }
   ],
   "source": [
    "S = {3, 6, 9, 12}\n",
    "T = {2, 4, 6, 8, 10}\n",
    "\n",
    "omega = {2, 3, 4, 6, 8, 9, 10, 12, 14, 15, 16, 18, 20}\n",
    "\n",
    "print(\"Cardinality of (S | T)\")\n",
    "print(len(S | T))"
   ]
  }
 ],
 "metadata": {
  "kernelspec": {
   "display_name": "base",
   "language": "python",
   "name": "python3"
  },
  "language_info": {
   "codemirror_mode": {
    "name": "ipython",
    "version": 3
   },
   "file_extension": ".py",
   "mimetype": "text/x-python",
   "name": "python",
   "nbconvert_exporter": "python",
   "pygments_lexer": "ipython3",
   "version": "3.12.7"
  }
 },
 "nbformat": 4,
 "nbformat_minor": 2
}
