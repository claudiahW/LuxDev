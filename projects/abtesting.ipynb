{
 "cells": [
  {
   "cell_type": "markdown",
   "id": "82e7043d",
   "metadata": {},
   "source": [
    "##  MLE "
   ]
  },
  {
   "cell_type": "code",
   "execution_count": 1,
   "id": "42c01053",
   "metadata": {},
   "outputs": [],
   "source": [
    "# load necessary imports \n",
    "import random # for generating random numbers"
   ]
  },
  {
   "cell_type": "code",
   "execution_count": 2,
   "id": "8a674be1",
   "metadata": {},
   "outputs": [],
   "source": [
    "\n",
    "def coinToss():\n",
    "    number = int(input(\"Number of times to flip coin: \"))\n",
    "    recordList = []\n",
    "    heads = 0\n",
    "    tails = 0\n",
    "    for amount in range(number):\n",
    "         flip = random.randint(0, 1)\n",
    "         if (flip == 0):\n",
    "              print(\"Toss\", amount+1 ,':' , \"Heads\")\n",
    "              recordList.append(\"Heads\")\n",
    "         else:\n",
    "              print(\"Toss\", amount+1 ,':' , \"Tails\")\n",
    "              recordList.append(\"Tails\")\n",
    "    print(str(recordList))\n",
    "    print(str(recordList.count(\"Heads\")) + str(recordList.count(\"Tails\")))\n",
    "    return recordList"
   ]
  },
  {
   "cell_type": "code",
   "execution_count": 3,
   "id": "64efd69e",
   "metadata": {},
   "outputs": [
    {
     "name": "stdout",
     "output_type": "stream",
     "text": [
      "Toss 1 : Heads\n",
      "Toss 2 : Heads\n",
      "Toss 3 : Tails\n",
      "Toss 4 : Heads\n",
      "Toss 5 : Tails\n",
      "Toss 6 : Heads\n",
      "Toss 7 : Tails\n",
      "Toss 8 : Heads\n",
      "Toss 9 : Tails\n",
      "Toss 10 : Heads\n",
      "Toss 11 : Heads\n",
      "Toss 12 : Heads\n",
      "Toss 13 : Tails\n",
      "Toss 14 : Heads\n",
      "Toss 15 : Tails\n",
      "Toss 16 : Tails\n",
      "Toss 17 : Heads\n",
      "Toss 18 : Tails\n",
      "Toss 19 : Tails\n",
      "Toss 20 : Tails\n",
      "Toss 21 : Heads\n",
      "Toss 22 : Heads\n",
      "Toss 23 : Heads\n",
      "Toss 24 : Tails\n",
      "Toss 25 : Heads\n",
      "Toss 26 : Tails\n",
      "Toss 27 : Tails\n",
      "Toss 28 : Heads\n",
      "Toss 29 : Heads\n",
      "Toss 30 : Tails\n",
      "Toss 31 : Tails\n",
      "Toss 32 : Heads\n",
      "Toss 33 : Heads\n",
      "['Heads', 'Heads', 'Tails', 'Heads', 'Tails', 'Heads', 'Tails', 'Heads', 'Tails', 'Heads', 'Heads', 'Heads', 'Tails', 'Heads', 'Tails', 'Tails', 'Heads', 'Tails', 'Tails', 'Tails', 'Heads', 'Heads', 'Heads', 'Tails', 'Heads', 'Tails', 'Tails', 'Heads', 'Heads', 'Tails', 'Tails', 'Heads', 'Heads']\n",
      "1815\n"
     ]
    }
   ],
   "source": [
    "lst = coinToss()"
   ]
  },
  {
   "cell_type": "code",
   "execution_count": 6,
   "id": "65b3ee7e",
   "metadata": {},
   "outputs": [
    {
     "data": {
      "text/plain": [
       "0.18"
      ]
     },
     "execution_count": 6,
     "metadata": {},
     "output_type": "execute_result"
    }
   ],
   "source": [
    "p_head = lst.count('Heads')/100\n",
    "p_head"
   ]
  }
 ],
 "metadata": {
  "kernelspec": {
   "display_name": "base",
   "language": "python",
   "name": "python3"
  },
  "language_info": {
   "codemirror_mode": {
    "name": "ipython",
    "version": 3
   },
   "file_extension": ".py",
   "mimetype": "text/x-python",
   "name": "python",
   "nbconvert_exporter": "python",
   "pygments_lexer": "ipython3",
   "version": "3.12.7"
  }
 },
 "nbformat": 4,
 "nbformat_minor": 5
}
