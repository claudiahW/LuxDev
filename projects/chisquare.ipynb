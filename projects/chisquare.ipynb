{
 "cells": [
  {
   "cell_type": "code",
   "execution_count": 1,
   "id": "18d7ee35",
   "metadata": {},
   "outputs": [],
   "source": [
    "# load necessary imports and packages\n",
    "import numpy as np\n",
    "import pandas as pd\n",
    "import scipy.stats as stats\n",
    "import matplotlib.pyplot as plt"
   ]
  },
  {
   "cell_type": "code",
   "execution_count": 4,
   "id": "e4faee42",
   "metadata": {},
   "outputs": [
    {
     "data": {
      "text/plain": [
       "<matplotlib.legend.Legend at 0x1e8291fb530>"
      ]
     },
     "execution_count": 4,
     "metadata": {},
     "output_type": "execute_result"
    },
    {
     "data": {
      "image/png": "[encoded data removed]",
      "text/plain": [
       "<Figure size 640x480 with 1 Axes>"
      ]
     },
     "metadata": {},
     "output_type": "display_data"
    }
   ],
   "source": [
    "# generating sample data as a normal continuous random variable\n",
    "sample_data = stats.norm.rvs(loc=20, scale=2, size=50, random_state=5)\n",
    "\n",
    "# plot data as well as theoritical mean of 21 \n",
    "fig, ax = plt.subplots()\n",
    "ax.hist(sample_data, alpha=0.5, label=\"Sample Data\")\n",
    "ax.axvline(sample_data.mean(), linestyle=\"--\", label=r\"Sample Mean $\\mu$\")\n",
    "ax.axvline(21, linestyle=\"--\", color=\"orange\", label=r\"Theoretical Mean $\\mu_{0}$\")\n",
    "ax.set_title(\"Sample Data and Theoretical Mean\")\n",
    "ax.set_ylabel(\"Count\")\n",
    "ax.legend()\n"
   ]
  },
  {
   "cell_type": "code",
   "execution_count": 6,
   "id": "c0ef1822",
   "metadata": {},
   "outputs": [
    {
     "data": {
      "text/plain": [
       "TtestResult(statistic=-11.601390168781101, pvalue=1.1597564948233709e-15, df=49)"
      ]
     },
     "execution_count": 6,
     "metadata": {},
     "output_type": "execute_result"
    }
   ],
   "source": [
    "stats.ttest_1samp(sample_data, 23)"
   ]
  },
  {
   "cell_type": "code",
   "execution_count": 8,
   "id": "9d47752f",
   "metadata": {},
   "outputs": [
    {
     "data": {
      "application/vnd.microsoft.datawrangler.viewer.v0+json": {
       "columns": [
        {
         "name": "index",
         "rawType": "int64",
         "type": "integer"
        },
        {
         "name": "Super Bowl",
         "rawType": "int64",
         "type": "integer"
        },
        {
         "name": "Coin Toss Outcome",
         "rawType": "object",
         "type": "string"
        },
        {
         "name": "Coin Toss Winner",
         "rawType": "object",
         "type": "string"
        },
        {
         "name": "Game Winner",
         "rawType": "object",
         "type": "string"
        }
       ],
       "ref": "1535fa03-9908-4385-a5b8-1b9c38fc1b06",
       "rows": [
        [
         "50",
         "51",
         "Tails",
         "Home Team",
         "Away Team"
        ],
        [
         "51",
         "52",
         "Heads",
         "Home Team",
         "Away Team"
        ],
        [
         "52",
         "53",
         "Tails",
         "Home Team",
         "Away Team"
        ],
        [
         "53",
         "54",
         "Tails",
         "Away Team",
         "Home Team"
        ],
        [
         "54",
         "55",
         "Heads",
         "Away Team",
         "Home Team"
        ]
       ],
       "shape": {
        "columns": 4,
        "rows": 5
       }
      },
      "text/html": [
       "<div>\n",
       "<style scoped>\n",
       "    .dataframe tbody tr th:only-of-type {\n",
       "        vertical-align: middle;\n",
       "    }\n",
       "\n",
       "    .dataframe tbody tr th {\n",
       "        vertical-align: top;\n",
       "    }\n",
       "\n",
       "    .dataframe thead th {\n",
       "        text-align: right;\n",
       "    }\n",
       "</style>\n",
       "<table border=\"1\" class=\"dataframe\">\n",
       "  <thead>\n",
       "    <tr style=\"text-align: right;\">\n",
       "      <th></th>\n",
       "      <th>Super Bowl</th>\n",
       "      <th>Coin Toss Outcome</th>\n",
       "      <th>Coin Toss Winner</th>\n",
       "      <th>Game Winner</th>\n",
       "    </tr>\n",
       "  </thead>\n",
       "  <tbody>\n",
       "    <tr>\n",
       "      <th>50</th>\n",
       "      <td>51</td>\n",
       "      <td>Tails</td>\n",
       "      <td>Home Team</td>\n",
       "      <td>Away Team</td>\n",
       "    </tr>\n",
       "    <tr>\n",
       "      <th>51</th>\n",
       "      <td>52</td>\n",
       "      <td>Heads</td>\n",
       "      <td>Home Team</td>\n",
       "      <td>Away Team</td>\n",
       "    </tr>\n",
       "    <tr>\n",
       "      <th>52</th>\n",
       "      <td>53</td>\n",
       "      <td>Tails</td>\n",
       "      <td>Home Team</td>\n",
       "      <td>Away Team</td>\n",
       "    </tr>\n",
       "    <tr>\n",
       "      <th>53</th>\n",
       "      <td>54</td>\n",
       "      <td>Tails</td>\n",
       "      <td>Away Team</td>\n",
       "      <td>Home Team</td>\n",
       "    </tr>\n",
       "    <tr>\n",
       "      <th>54</th>\n",
       "      <td>55</td>\n",
       "      <td>Heads</td>\n",
       "      <td>Away Team</td>\n",
       "      <td>Home Team</td>\n",
       "    </tr>\n",
       "  </tbody>\n",
       "</table>\n",
       "</div>"
      ],
      "text/plain": [
       "    Super Bowl Coin Toss Outcome Coin Toss Winner Game Winner\n",
       "50          51             Tails        Home Team   Away Team\n",
       "51          52             Heads        Home Team   Away Team\n",
       "52          53             Tails        Home Team   Away Team\n",
       "53          54             Tails        Away Team   Home Team\n",
       "54          55             Heads        Away Team   Home Team"
      ]
     },
     "execution_count": 8,
     "metadata": {},
     "output_type": "execute_result"
    }
   ],
   "source": [
    "sb_data = pd.read_csv(r\"C:\\Users\\user\\Downloads\\superbowl.csv\")\n",
    "sb_data.tail()"
   ]
  },
  {
   "cell_type": "code",
   "execution_count": 9,
   "id": "4b23a10f",
   "metadata": {},
   "outputs": [
    {
     "data": {
      "application/vnd.microsoft.datawrangler.viewer.v0+json": {
       "columns": [
        {
         "name": "Coin Toss Outcome",
         "rawType": "object",
         "type": "string"
        },
        {
         "name": "count",
         "rawType": "int64",
         "type": "integer"
        }
       ],
       "ref": "42f528fa-b700-49bb-b7f8-5b5492a4a2d1",
       "rows": [
        [
         "Heads",
         "26"
        ],
        [
         "Tails",
         "29"
        ]
       ],
       "shape": {
        "columns": 1,
        "rows": 2
       }
      },
      "text/plain": [
       "Coin Toss Outcome\n",
       "Heads    26\n",
       "Tails    29\n",
       "Name: count, dtype: int64"
      ]
     },
     "execution_count": 9,
     "metadata": {},
     "output_type": "execute_result"
    }
   ],
   "source": [
    "coin_toss_counts = sb_data[\"Coin Toss Outcome\"].value_counts().sort_index()\n",
    "coin_toss_counts"
   ]
  },
  {
   "cell_type": "code",
   "execution_count": 10,
   "id": "d9bedf60",
   "metadata": {},
   "outputs": [
    {
     "data": {
      "image/png": "[encoded data removed]",
      "text/plain": [
       "<Figure size 640x480 with 1 Axes>"
      ]
     },
     "metadata": {},
     "output_type": "display_data"
    }
   ],
   "source": [
    "fig, ax = plt.subplots()\n",
    "\n",
    "# Extract observed counts\n",
    "fair_coin_observed = coin_toss_counts.values\n",
    "# Heads and tails each expected half the time\n",
    "fair_coin_expected = [sum(coin_toss_counts)/2, sum(coin_toss_counts)/2]\n",
    "\n",
    "# Placeholder data for display purposes; you can ignore these values\n",
    "x = np.array([0, 5])\n",
    "offset = 1\n",
    "bar_width = 2\n",
    "\n",
    "# Plot bars\n",
    "ax.bar(x-offset, fair_coin_observed, bar_width, label=\"Observed\")\n",
    "ax.bar(x+offset, fair_coin_expected, bar_width, label=\"Expected\")\n",
    "\n",
    "# Customize appearance\n",
    "ax.set_xticks(x)\n",
    "ax.set_xticklabels([\"Heads\", \"Tails\"])\n",
    "ax.set_ylabel(\"Count\")\n",
    "ax.legend(loc=\"right\")\n",
    "fig.suptitle(\"Super Bowl Coin Tosses\");"
   ]
  },
  {
   "cell_type": "code",
   "execution_count": 11,
   "id": "0effb71e",
   "metadata": {},
   "outputs": [
    {
     "data": {
      "text/plain": [
       "Power_divergenceResult(statistic=0.16363636363636364, pvalue=0.6858304344516056)"
      ]
     },
     "execution_count": 11,
     "metadata": {},
     "output_type": "execute_result"
    }
   ],
   "source": [
    "fair_coin_result = stats.chisquare(fair_coin_observed, fair_coin_expected)\n",
    "fair_coin_result"
   ]
  },
  {
   "cell_type": "code",
   "execution_count": 12,
   "id": "9105f1d8",
   "metadata": {},
   "outputs": [
    {
     "data": {
      "application/vnd.microsoft.datawrangler.viewer.v0+json": {
       "columns": [
        {
         "name": "Game Winner",
         "rawType": "object",
         "type": "string"
        },
        {
         "name": "count",
         "rawType": "int64",
         "type": "integer"
        }
       ],
       "ref": "bf6f550d-6d94-4653-8c64-b04716d7cfc5",
       "rows": [
        [
         "Away Team",
         "31"
        ],
        [
         "Home Team",
         "24"
        ]
       ],
       "shape": {
        "columns": 1,
        "rows": 2
       }
      },
      "text/plain": [
       "Game Winner\n",
       "Away Team    31\n",
       "Home Team    24\n",
       "Name: count, dtype: int64"
      ]
     },
     "execution_count": 12,
     "metadata": {},
     "output_type": "execute_result"
    }
   ],
   "source": [
    "game_winner_counts_sb = sb_data[\"Game Winner\"].value_counts().sort_index()\n",
    "game_winner_counts_sb"
   ]
  },
  {
   "cell_type": "code",
   "execution_count": 13,
   "id": "9bef984f",
   "metadata": {},
   "outputs": [
    {
     "data": {
      "image/png": "[encoded data removed]",
      "text/plain": [
       "<Figure size 640x480 with 1 Axes>"
      ]
     },
     "metadata": {},
     "output_type": "display_data"
    }
   ],
   "source": [
    "fig, ax = plt.subplots()\n",
    "\n",
    "# Extract data\n",
    "observed = game_winner_counts_sb.values\n",
    "expected = [sum(game_winner_counts_sb)/2, sum(game_winner_counts_sb)/2]\n",
    "\n",
    "# Plot bars\n",
    "ax.bar(x-offset, observed, bar_width, label=\"Observed\")\n",
    "ax.bar(x+offset, expected, bar_width, label=\"Expected\")\n",
    "\n",
    "# Customize appearance\n",
    "ax.set_xticks(x)\n",
    "ax.set_xticklabels([\"Away Team Wins\", \"Home Team Wins\"])\n",
    "ax.set_ylabel(\"Count\")\n",
    "ax.legend(loc=\"right\")\n",
    "fig.suptitle(\"Super Bowl Home-Field Advantage\");"
   ]
  },
  {
   "cell_type": "code",
   "execution_count": 14,
   "id": "ce545bac",
   "metadata": {},
   "outputs": [
    {
     "data": {
      "text/plain": [
       "Power_divergenceResult(statistic=0.8909090909090909, pvalue=0.34523107177184)"
      ]
     },
     "execution_count": 14,
     "metadata": {},
     "output_type": "execute_result"
    }
   ],
   "source": [
    "home_field_advantage_result_sb = stats.chisquare(observed, expected)\n",
    "home_field_advantage_result_sb"
   ]
  },
  {
   "cell_type": "code",
   "execution_count": null,
   "id": "c33d0f92",
   "metadata": {},
   "outputs": [],
   "source": []
  },
  {
   "cell_type": "code",
   "execution_count": null,
   "id": "2f2957c9",
   "metadata": {},
   "outputs": [],
   "source": []
  }
 ],
 "metadata": {
  "kernelspec": {
   "display_name": "base",
   "language": "python",
   "name": "python3"
  },
  "language_info": {
   "codemirror_mode": {
    "name": "ipython",
    "version": 3
   },
   "file_extension": ".py",
   "mimetype": "text/x-python",
   "name": "python",
   "nbconvert_exporter": "python",
   "pygments_lexer": "ipython3",
   "version": "3.12.7"
  }
 },
 "nbformat": 4,
 "nbformat_minor": 5
}
