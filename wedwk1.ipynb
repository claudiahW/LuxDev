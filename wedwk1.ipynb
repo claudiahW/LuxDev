{
 "cells": [
  {
   "cell_type": "code",
   "execution_count": 1,
   "metadata": {},
   "outputs": [
    {
     "name": "stdout",
     "output_type": "stream",
     "text": [
      "1\n",
      "2\n",
      "3\n",
      "4\n",
      "5\n",
      "6\n",
      "7\n",
      "8\n",
      "9\n"
     ]
    }
   ],
   "source": [
    "#a 2D list (matrix)\n",
    "matrix = [\n",
    "    [1,2,3],\n",
    "    [4,5,6],\n",
    "    [7,8,9]\n",
    "]\n",
    "\n",
    "#outer loop goes through each row\n",
    "\n",
    "for row in matrix:\n",
    "    #inner loop goes through each element in the row\n",
    "    for element in row:\n",
    "        #print the element\n",
    "        \n",
    "        print(element)    \n"
   ]
  },
  {
   "cell_type": "code",
   "execution_count": 3,
   "metadata": {},
   "outputs": [
    {
     "name": "stdout",
     "output_type": "stream",
     "text": [
      "456"
     ]
    }
   ],
   "source": [
    "row2 = 1\n",
    "\n",
    "for i in range(len(matrix)):\n",
    "    if i == row2:\n",
    "        for j in matrix[i]:\n",
    "            print(j, end=\"\")"
   ]
  },
  {
   "cell_type": "code",
   "execution_count": 8,
   "metadata": {},
   "outputs": [
    {
     "name": "stdout",
     "output_type": "stream",
     "text": [
      "['Sandra', 'Mary', 'Hayley', 'Daniel']\n"
     ]
    },
    {
     "data": {
      "text/plain": [
       "['Hi Sandra I am so glad to be working with you!',\n",
       " 'Hi Mary I am so glad to be working with you!',\n",
       " 'Hi Hayley I am so glad to be working with you!',\n",
       " 'Hi Daniel I am so glad to be working with you!']"
      ]
     },
     "execution_count": 8,
     "metadata": {},
     "output_type": "execute_result"
    }
   ],
   "source": [
    "new_employees = ['Sandra', 'Mary', 'Hayley', 'Daniel']\n",
    "print(new_employees)\n",
    "\n",
    "welcome_message = []\n",
    "for new_employee in new_employees:\n",
    "    welcome_message.append(\"Hi \" + new_employee.title() + \" I am so glad to be working with you!\")\n",
    "\n",
    "welcome_message    "
   ]
  },
  {
   "cell_type": "code",
   "execution_count": 12,
   "metadata": {},
   "outputs": [
    {
     "name": "stdout",
     "output_type": "stream",
     "text": [
      "My Name is: Barbie,I am  24 years old\n",
      "My Name is: Devinna,I am  34 years old\n",
      "My Name is: Zlatan,I am  18 years old\n"
     ]
    }
   ],
   "source": [
    "class Person:\n",
    "    def __init__(self,name,age):\n",
    "        self.name = name\n",
    "        self.age = age\n",
    "\n",
    "    def display_info(self):\n",
    "        print(f\"My Name is: {self.name},I am  {self.age} years old\")\n",
    "\n",
    "person1 = Person('Barbie', 24) \n",
    "person2 = Person('Devinna', 34) \n",
    "person3 = Person('Zlatan', 18) \n",
    "person1.display_info()\n",
    "person2.display_info()\n",
    "person3.display_info()\n",
    "\n"
   ]
  },
  {
   "cell_type": "code",
   "execution_count": 15,
   "metadata": {},
   "outputs": [
    {
     "name": "stdout",
     "output_type": "stream",
     "text": [
      "Jack is a 4 yr old German Shepherd who has black fur\n"
     ]
    }
   ],
   "source": [
    "class Dog:\n",
    "    def __init__(self,name,age,breed,color):\n",
    "        self.name=name\n",
    "        self.age=age\n",
    "        self.breed=breed\n",
    "        self.color=color\n",
    "\n",
    "    def bark(self):\n",
    "        print(f\"{self.name} is a {self.age} yr old {self.breed} who has {self.color} fur\")\n",
    "\n",
    "dog1 = Dog(\"Jack\",4,\"German Shepherd\",\"black\")        \n",
    "\n",
    "dog1.bark()\n",
    "\n",
    "\n",
    "\n",
    "      "
   ]
  }
 ],
 "metadata": {
  "kernelspec": {
   "display_name": "base",
   "language": "python",
   "name": "python3"
  },
  "language_info": {
   "codemirror_mode": {
    "name": "ipython",
    "version": 3
   },
   "file_extension": ".py",
   "mimetype": "text/x-python",
   "name": "python",
   "nbconvert_exporter": "python",
   "pygments_lexer": "ipython3",
   "version": "3.12.7"
  }
 },
 "nbformat": 4,
 "nbformat_minor": 2
}
