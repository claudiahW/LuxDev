{
 "cells": [
  {
   "cell_type": "markdown",
   "metadata": {},
   "source": [
    "## WEEK 2 ASSIGNMENT\n",
    "\n",
    "\n",
    "Do a blog on data protection, privacy and ethics\n",
    "\n",
    "\n",
    "Do all the visualisation we learnt in plotly\n",
    "\n",
    "\n",
    "Learn the different customisation for each visualization\n",
    "\n",
    "\n",
    "Get the absolute deviation mean using a for loop  and a function\n",
    "\n",
    "\n",
    "When writing a report do we always start from the smallest or the largest percent\n",
    "Find different percentiles of (my_list) without using libraries"
   ]
  },
  {
   "cell_type": "markdown",
   "metadata": {},
   "source": [
    "**Question 1.**\n",
    "\n",
    "# Learn about magic commands and what they are used  for .\n",
    "\n",
    " Magic commands are an enhancement of the interactive IPython kernel (used by Jupyter) and make performing common tasks easier than using Python code alone.\n",
    "\n",
    " Magic commands are easily identified because they all start with the % character. Line magics start with a single % and apply to the code on the rest of the line. Cell magics start with %% and apply to the rest of the code in a cell.\n",
    "\n",
    " Some common uses of magic commands are\n",
    "\n",
    " - test the speed of your code.\n",
    " - display the memory usage of your code.\n",
    " - Help with autocomplete.\n",
    " - Write a code to a file.\n",
    " - Reload code from a file.\n",
    "\n",
    "**Question 2.**\n",
    "\n",
    "# What are the difference between a bar chart, count plot and histogram?\n",
    "\n",
    "A histogram is a data visualization type designed to show the distribution of interval or continuous data. In histograms, data is shown in the form of contiguous bars, where each bar corresponds to a data range or a bin.\n",
    "\n",
    "\n",
    "A count plot can be thought of as a histogram across a categorical, instead of quantitative, variable. \n",
    "\n",
    "Bar plots look similar to count plots, but instead of the count of observations in each category, they show the mean of a quantitative variable among observations in each category. This bar plot uses the tips dataset and shows the average bill paid among people who visited the restaurant on each day of the week. \n",
    "\n",
    "**Question 2.**\n",
    "\n",
    "\n",
    "\n",
    "\n",
    "\n",
    "\n"
   ]
  }
 ],
 "metadata": {
  "language_info": {
   "name": "python"
  }
 },
 "nbformat": 4,
 "nbformat_minor": 2
}
